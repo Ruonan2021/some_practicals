{
 "cells": [
  {
   "cell_type": "markdown",
   "metadata": {},
   "source": [
    "# Loading the harmonic network"
   ]
  },
  {
   "cell_type": "code",
   "execution_count": 2,
   "metadata": {},
   "outputs": [],
   "source": [
    "import pickle\n",
    "import pandas as pd"
   ]
  },
  {
   "cell_type": "code",
   "execution_count": 3,
   "metadata": {},
   "outputs": [],
   "source": [
    "subdataset_names = [\"isophonics\", \"jaah\", \"schubert-winterreise\"]"
   ]
  },
  {
   "cell_type": "code",
   "execution_count": 4,
   "metadata": {},
   "outputs": [],
   "source": [
    "hnet_edgelist_df = pd.read_csv(\"./harmonic_net_edgelist.csv\")"
   ]
  },
  {
   "cell_type": "code",
   "execution_count": 5,
   "metadata": {},
   "outputs": [
    {
     "data": {
      "text/html": [
       "<div>\n",
       "<style scoped>\n",
       "    .dataframe tbody tr th:only-of-type {\n",
       "        vertical-align: middle;\n",
       "    }\n",
       "\n",
       "    .dataframe tbody tr th {\n",
       "        vertical-align: top;\n",
       "    }\n",
       "\n",
       "    .dataframe thead th {\n",
       "        text-align: right;\n",
       "    }\n",
       "</style>\n",
       "<table border=\"1\" class=\"dataframe\">\n",
       "  <thead>\n",
       "    <tr style=\"text-align: right;\">\n",
       "      <th></th>\n",
       "      <th>source</th>\n",
       "      <th>target</th>\n",
       "      <th>weight</th>\n",
       "      <th>lsrp</th>\n",
       "    </tr>\n",
       "  </thead>\n",
       "  <tbody>\n",
       "    <tr>\n",
       "      <th>0</th>\n",
       "      <td>isophonics_0</td>\n",
       "      <td>isophonics_2</td>\n",
       "      <td>0.136646</td>\n",
       "      <td>[(10, 106, 131)]</td>\n",
       "    </tr>\n",
       "    <tr>\n",
       "      <th>1</th>\n",
       "      <td>isophonics_0</td>\n",
       "      <td>isophonics_3</td>\n",
       "      <td>0.211640</td>\n",
       "      <td>[(10, 106, 10, 106, 10)]</td>\n",
       "    </tr>\n",
       "    <tr>\n",
       "      <th>2</th>\n",
       "      <td>isophonics_0</td>\n",
       "      <td>isophonics_5</td>\n",
       "      <td>0.146429</td>\n",
       "      <td>[(106, 131, 10)]</td>\n",
       "    </tr>\n",
       "    <tr>\n",
       "      <th>3</th>\n",
       "      <td>isophonics_0</td>\n",
       "      <td>isophonics_8</td>\n",
       "      <td>0.206349</td>\n",
       "      <td>[(227, 10, 106, 10)]</td>\n",
       "    </tr>\n",
       "    <tr>\n",
       "      <th>4</th>\n",
       "      <td>isophonics_0</td>\n",
       "      <td>isophonics_12</td>\n",
       "      <td>0.129121</td>\n",
       "      <td>[(106, 10, 106), (227, 10, 106), (10, 106, 131)]</td>\n",
       "    </tr>\n",
       "  </tbody>\n",
       "</table>\n",
       "</div>"
      ],
      "text/plain": [
       "         source         target    weight  \\\n",
       "0  isophonics_0   isophonics_2  0.136646   \n",
       "1  isophonics_0   isophonics_3  0.211640   \n",
       "2  isophonics_0   isophonics_5  0.146429   \n",
       "3  isophonics_0   isophonics_8  0.206349   \n",
       "4  isophonics_0  isophonics_12  0.129121   \n",
       "\n",
       "                                               lsrp  \n",
       "0                                  [(10, 106, 131)]  \n",
       "1                          [(10, 106, 10, 106, 10)]  \n",
       "2                                  [(106, 131, 10)]  \n",
       "3                              [(227, 10, 106, 10)]  \n",
       "4  [(106, 10, 106), (227, 10, 106), (10, 106, 131)]  "
      ]
     },
     "execution_count": 5,
     "metadata": {},
     "output_type": "execute_result"
    }
   ],
   "source": [
    "hnet_edgelist_df.head()"
   ]
  },
  {
   "cell_type": "code",
   "execution_count": 6,
   "metadata": {},
   "outputs": [
    {
     "data": {
      "text/html": [
       "<div>\n",
       "<style scoped>\n",
       "    .dataframe tbody tr th:only-of-type {\n",
       "        vertical-align: middle;\n",
       "    }\n",
       "\n",
       "    .dataframe tbody tr th {\n",
       "        vertical-align: top;\n",
       "    }\n",
       "\n",
       "    .dataframe thead th {\n",
       "        text-align: right;\n",
       "    }\n",
       "</style>\n",
       "<table border=\"1\" class=\"dataframe\">\n",
       "  <thead>\n",
       "    <tr style=\"text-align: right;\">\n",
       "      <th></th>\n",
       "      <th>source</th>\n",
       "      <th>target</th>\n",
       "      <th>weight</th>\n",
       "      <th>lsrp</th>\n",
       "    </tr>\n",
       "  </thead>\n",
       "  <tbody>\n",
       "    <tr>\n",
       "      <th>0</th>\n",
       "      <td>isophonics_0</td>\n",
       "      <td>isophonics_2</td>\n",
       "      <td>0.136646</td>\n",
       "      <td>[(10, 106, 131)]</td>\n",
       "    </tr>\n",
       "  </tbody>\n",
       "</table>\n",
       "</div>"
      ],
      "text/plain": [
       "         source        target    weight              lsrp\n",
       "0  isophonics_0  isophonics_2  0.136646  [(10, 106, 131)]"
      ]
     },
     "execution_count": 6,
     "metadata": {},
     "output_type": "execute_result"
    }
   ],
   "source": [
    "# Checking the existence of an edge among isophonics_0 and isophonics_2\n",
    "hnet_edgelist_df[(hnet_edgelist_df[\"source\"] == \"isophonics_0\") \\\n",
    "    & (hnet_edgelist_df[\"target\"] == \"isophonics_2\")]"
   ]
  },
  {
   "cell_type": "code",
   "execution_count": 7,
   "metadata": {},
   "outputs": [
    {
     "data": {
      "text/html": [
       "<div>\n",
       "<style scoped>\n",
       "    .dataframe tbody tr th:only-of-type {\n",
       "        vertical-align: middle;\n",
       "    }\n",
       "\n",
       "    .dataframe tbody tr th {\n",
       "        vertical-align: top;\n",
       "    }\n",
       "\n",
       "    .dataframe thead th {\n",
       "        text-align: right;\n",
       "    }\n",
       "</style>\n",
       "<table border=\"1\" class=\"dataframe\">\n",
       "  <thead>\n",
       "    <tr style=\"text-align: right;\">\n",
       "      <th></th>\n",
       "      <th>source</th>\n",
       "      <th>target</th>\n",
       "      <th>weight</th>\n",
       "      <th>lsrp</th>\n",
       "    </tr>\n",
       "  </thead>\n",
       "  <tbody>\n",
       "  </tbody>\n",
       "</table>\n",
       "</div>"
      ],
      "text/plain": [
       "Empty DataFrame\n",
       "Columns: [source, target, weight, lsrp]\n",
       "Index: []"
      ]
     },
     "execution_count": 7,
     "metadata": {},
     "output_type": "execute_result"
    }
   ],
   "source": [
    "# As similarities are symmetric, you will not find isophonics_2 -> isophonics_0\n",
    "hnet_edgelist_df[(hnet_edgelist_df[\"source\"] == \"isophonics_2\") \\\n",
    "    & (hnet_edgelist_df[\"target\"] == \"isophonics_0\")]"
   ]
  },
  {
   "cell_type": "markdown",
   "metadata": {},
   "source": [
    "## Decoding chord identifiers\n",
    "\n",
    "For the sake of memory efficiency, the longest shared harmonic patterns (lshp) -- informing the computation of the harmonic similarity value, are encoded as sequences of indices (one-hot vectors). These can be resolved/decoded using the available mapping in ``./idx_to_chord.pkl`` -- provided as Python dictionary, to produce actual chord labels (following the Harte notation [1]).\n",
    "\n",
    "**Pay attention:** 2 songs may share more than 1 lshp\n",
    "\n",
    "[1] https://ismir2005.ismir.net/proceedings/1080.pdf"
   ]
  },
  {
   "cell_type": "code",
   "execution_count": 8,
   "metadata": {},
   "outputs": [],
   "source": [
    "with open(\"./idx_to_chord.pkl\", \"rb\") as fo:\n",
    "    idx_to_chord = pickle.load(fo)"
   ]
  },
  {
   "cell_type": "code",
   "execution_count": 9,
   "metadata": {},
   "outputs": [
    {
     "data": {
      "text/plain": [
       "['Db', 'Ab:7', 'Db']"
      ]
     },
     "execution_count": 9,
     "metadata": {},
     "output_type": "execute_result"
    }
   ],
   "source": [
    "example_lsrp = (183, 242, 183)\n",
    "\n",
    "[idx_to_chord[idx] for idx in example_lsrp]"
   ]
  },
  {
   "cell_type": "markdown",
   "metadata": {},
   "source": [
    "## Song metadata"
   ]
  },
  {
   "cell_type": "code",
   "execution_count": 10,
   "metadata": {},
   "outputs": [
    {
     "data": {
      "text/html": [
       "<div>\n",
       "<style scoped>\n",
       "    .dataframe tbody tr th:only-of-type {\n",
       "        vertical-align: middle;\n",
       "    }\n",
       "\n",
       "    .dataframe tbody tr th {\n",
       "        vertical-align: top;\n",
       "    }\n",
       "\n",
       "    .dataframe thead th {\n",
       "        text-align: right;\n",
       "    }\n",
       "</style>\n",
       "<table border=\"1\" class=\"dataframe\">\n",
       "  <thead>\n",
       "    <tr style=\"text-align: right;\">\n",
       "      <th></th>\n",
       "      <th>id</th>\n",
       "      <th>title</th>\n",
       "      <th>artist</th>\n",
       "      <th>path</th>\n",
       "    </tr>\n",
       "  </thead>\n",
       "  <tbody>\n",
       "    <tr>\n",
       "      <th>0</th>\n",
       "      <td>isophonics_0</td>\n",
       "      <td>09_-_When_I'm_Sixty-Four</td>\n",
       "      <td>The Beatles</td>\n",
       "      <td>../../datasets/annotations/isophonics/Isophoni...</td>\n",
       "    </tr>\n",
       "    <tr>\n",
       "      <th>1</th>\n",
       "      <td>isophonics_1</td>\n",
       "      <td>17 We Are The Champions</td>\n",
       "      <td>Queen</td>\n",
       "      <td>../../datasets/annotations/isophonics/Isophoni...</td>\n",
       "    </tr>\n",
       "    <tr>\n",
       "      <th>2</th>\n",
       "      <td>isophonics_2</td>\n",
       "      <td>01 Bohemian Rhapsody</td>\n",
       "      <td>Queen</td>\n",
       "      <td>../../datasets/annotations/isophonics/Isophoni...</td>\n",
       "    </tr>\n",
       "    <tr>\n",
       "      <th>3</th>\n",
       "      <td>isophonics_3</td>\n",
       "      <td>11_-_All_You_Need_Is_Love</td>\n",
       "      <td>The Beatles</td>\n",
       "      <td>../../datasets/annotations/isophonics/Isophoni...</td>\n",
       "    </tr>\n",
       "    <tr>\n",
       "      <th>4</th>\n",
       "      <td>isophonics_4</td>\n",
       "      <td>16_-_Zu_Leise_Für_Mich</td>\n",
       "      <td>Zweieck</td>\n",
       "      <td>../../datasets/annotations/isophonics/Isophoni...</td>\n",
       "    </tr>\n",
       "    <tr>\n",
       "      <th>...</th>\n",
       "      <td>...</td>\n",
       "      <td>...</td>\n",
       "      <td>...</td>\n",
       "      <td>...</td>\n",
       "    </tr>\n",
       "    <tr>\n",
       "      <th>523</th>\n",
       "      <td>schubert-winterreise_211</td>\n",
       "      <td>Gefror'ne Tränen</td>\n",
       "      <td>Gerhard Hu_sch, Hanns-Udo Muller</td>\n",
       "      <td>../../datasets/annotations/schubert-winterreis...</td>\n",
       "    </tr>\n",
       "    <tr>\n",
       "      <th>524</th>\n",
       "      <td>schubert-winterreise_212</td>\n",
       "      <td>Der stürmische Morgen</td>\n",
       "      <td>Dietrich Fischer-Dieskau, Gerald Moore</td>\n",
       "      <td>../../datasets/annotations/schubert-winterreis...</td>\n",
       "    </tr>\n",
       "    <tr>\n",
       "      <th>525</th>\n",
       "      <td>schubert-winterreise_213</td>\n",
       "      <td>Einsamkeit</td>\n",
       "      <td>Thomas Oliemans, Bert van den Brink</td>\n",
       "      <td>../../datasets/annotations/schubert-winterreis...</td>\n",
       "    </tr>\n",
       "    <tr>\n",
       "      <th>526</th>\n",
       "      <td>schubert-winterreise_214</td>\n",
       "      <td>Die Nebensonnen</td>\n",
       "      <td>Roman Trekel, Ulrich Eisenlohr</td>\n",
       "      <td>../../datasets/annotations/schubert-winterreis...</td>\n",
       "    </tr>\n",
       "    <tr>\n",
       "      <th>527</th>\n",
       "      <td>schubert-winterreise_215</td>\n",
       "      <td>Der Leiermann</td>\n",
       "      <td>Dietrich Fischer-Dieskau, Jorg Demus</td>\n",
       "      <td>../../datasets/annotations/schubert-winterreis...</td>\n",
       "    </tr>\n",
       "  </tbody>\n",
       "</table>\n",
       "<p>528 rows × 4 columns</p>\n",
       "</div>"
      ],
      "text/plain": [
       "                           id                      title  \\\n",
       "0                isophonics_0   09_-_When_I'm_Sixty-Four   \n",
       "1                isophonics_1    17 We Are The Champions   \n",
       "2                isophonics_2       01 Bohemian Rhapsody   \n",
       "3                isophonics_3  11_-_All_You_Need_Is_Love   \n",
       "4                isophonics_4    16_-_Zu_Leise_Für_Mich   \n",
       "..                        ...                        ...   \n",
       "523  schubert-winterreise_211           Gefror'ne Tränen   \n",
       "524  schubert-winterreise_212      Der stürmische Morgen   \n",
       "525  schubert-winterreise_213                 Einsamkeit   \n",
       "526  schubert-winterreise_214            Die Nebensonnen   \n",
       "527  schubert-winterreise_215              Der Leiermann   \n",
       "\n",
       "                                     artist  \\\n",
       "0                               The Beatles   \n",
       "1                                     Queen   \n",
       "2                                     Queen   \n",
       "3                               The Beatles   \n",
       "4                                   Zweieck   \n",
       "..                                      ...   \n",
       "523        Gerhard Hu_sch, Hanns-Udo Muller   \n",
       "524  Dietrich Fischer-Dieskau, Gerald Moore   \n",
       "525     Thomas Oliemans, Bert van den Brink   \n",
       "526          Roman Trekel, Ulrich Eisenlohr   \n",
       "527    Dietrich Fischer-Dieskau, Jorg Demus   \n",
       "\n",
       "                                                  path  \n",
       "0    ../../datasets/annotations/isophonics/Isophoni...  \n",
       "1    ../../datasets/annotations/isophonics/Isophoni...  \n",
       "2    ../../datasets/annotations/isophonics/Isophoni...  \n",
       "3    ../../datasets/annotations/isophonics/Isophoni...  \n",
       "4    ../../datasets/annotations/isophonics/Isophoni...  \n",
       "..                                                 ...  \n",
       "523  ../../datasets/annotations/schubert-winterreis...  \n",
       "524  ../../datasets/annotations/schubert-winterreis...  \n",
       "525  ../../datasets/annotations/schubert-winterreis...  \n",
       "526  ../../datasets/annotations/schubert-winterreis...  \n",
       "527  ../../datasets/annotations/schubert-winterreis...  \n",
       "\n",
       "[528 rows x 4 columns]"
      ]
     },
     "execution_count": 10,
     "metadata": {},
     "output_type": "execute_result"
    }
   ],
   "source": [
    "meta_df = pd.read_csv(\"./sonar_datasets_meta.csv\")\n",
    "meta_df"
   ]
  },
  {
   "cell_type": "code",
   "execution_count": 13,
   "metadata": {},
   "outputs": [
    {
     "data": {
      "text/html": [
       "<div>\n",
       "<style scoped>\n",
       "    .dataframe tbody tr th:only-of-type {\n",
       "        vertical-align: middle;\n",
       "    }\n",
       "\n",
       "    .dataframe tbody tr th {\n",
       "        vertical-align: top;\n",
       "    }\n",
       "\n",
       "    .dataframe thead th {\n",
       "        text-align: right;\n",
       "    }\n",
       "</style>\n",
       "<table border=\"1\" class=\"dataframe\">\n",
       "  <thead>\n",
       "    <tr style=\"text-align: right;\">\n",
       "      <th></th>\n",
       "      <th>id</th>\n",
       "      <th>title</th>\n",
       "      <th>artist</th>\n",
       "      <th>path</th>\n",
       "    </tr>\n",
       "  </thead>\n",
       "  <tbody>\n",
       "  </tbody>\n",
       "</table>\n",
       "</div>"
      ],
      "text/plain": [
       "Empty DataFrame\n",
       "Columns: [id, title, artist, path]\n",
       "Index: []"
      ]
     },
     "execution_count": 13,
     "metadata": {},
     "output_type": "execute_result"
    }
   ],
   "source": [
    "meta_df[meta_df[\"title\"] == \"P.S. I Love You\"]"
   ]
  },
  {
   "cell_type": "code",
   "execution_count": null,
   "metadata": {},
   "outputs": [],
   "source": []
  },
  {
   "cell_type": "code",
   "execution_count": null,
   "metadata": {},
   "outputs": [],
   "source": []
  }
 ],
 "metadata": {
  "interpreter": {
   "hash": "3b0d87442a567a3f1f8077acbd32635a01c45ddbcce6833c0cbce7aac1a57224"
  },
  "kernelspec": {
   "display_name": "Python 3.9.7 ('nda')",
   "language": "python",
   "name": "python3"
  },
  "language_info": {
   "codemirror_mode": {
    "name": "ipython",
    "version": 3
   },
   "file_extension": ".py",
   "mimetype": "text/x-python",
   "name": "python",
   "nbconvert_exporter": "python",
   "pygments_lexer": "ipython3",
   "version": "3.8.10"
  },
  "orig_nbformat": 4
 },
 "nbformat": 4,
 "nbformat_minor": 2
}
