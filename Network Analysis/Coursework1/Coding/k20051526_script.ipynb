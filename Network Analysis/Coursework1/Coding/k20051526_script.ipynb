{
 "cells": [
  {
   "cell_type": "markdown",
   "metadata": {},
   "source": [
    "# Load packages"
   ]
  },
  {
   "cell_type": "code",
   "execution_count": 98,
   "metadata": {},
   "outputs": [],
   "source": [
    "import networkx as nx\n",
    "import pandas as pd\n",
    "import collections\n",
    "import matplotlib.pyplot as plt"
   ]
  },
  {
   "cell_type": "markdown",
   "metadata": {},
   "source": [
    "# Task A"
   ]
  },
  {
   "cell_type": "code",
   "execution_count": 75,
   "metadata": {},
   "outputs": [],
   "source": [
    "# read file\n",
    "df = pd.read_csv(\"../Data/harmonic_net_edgelist.csv\")\n",
    "\n",
    "# all nodes\n",
    "nodes = df[\"source\"] + df[\"target\"]\n",
    "nodes_distinct = nodes.unique()\n",
    "\n",
    "# create a network graph\n",
    "graph_songs = nx.Graph()\n",
    "\n",
    "# add nodes to the network graph\n",
    "graph_songs.add_nodes_from(nodes_distinct)"
   ]
  },
  {
   "cell_type": "code",
   "execution_count": 76,
   "metadata": {},
   "outputs": [],
   "source": [
    "# prepare for the edges\n",
    "df = df.drop(columns=[\"lsrp\"])\n",
    "edges = tuple(df.itertuples(index=False, name=None))\n",
    "\n",
    "# create a list to store edges\n",
    "list_tmp= []\n",
    "for t in edges:\n",
    "    list_tmp.append((t[0],t[1],t[2]))\n",
    "# add edges to the network graph\n",
    "graph_songs.add_weighted_edges_from(list_tmp)"
   ]
  },
  {
   "cell_type": "markdown",
   "metadata": {},
   "source": [
    "## Task A.1\n",
    "What are the characteristic properties of this song similarity network?\n",
    "1. This network has 32223 nodes, 31703 edges, 31704 components"
   ]
  },
  {
   "cell_type": "code",
   "execution_count": 93,
   "metadata": {},
   "outputs": [],
   "source": [
    "def graph_stat(graph):\n",
    "    print(\"Num of nodes: {}\".format(graph.number_of_nodes()))\n",
    "    print(\"Num of edges {}\".format(graph.number_of_edges()))\n",
    "    print(\"Number of connected components {}\".format(nx.number_connected_components(graph)))\n",
    "\n",
    "    largest = max(nx.connected_components(graph), key=len)\n",
    "    print(\"Number of nodes in the largest connected component: {}\".format(len(largest)))\n",
    "\n",
    "    component = graph.subgraph(largest)\n",
    "    largest_component_diameter = nx.diameter(component)\n",
    "    print(\"Diameter of the largest connected component: {}\".format(largest_component_diameter))\n",
    "\n",
    "    # Average (mean) degree of nodes\n",
    "    degree_sequence = [d for n, d in graph.degree()]\n",
    "    avg_degree = sum(degree_sequence) / len(degree_sequence)\n",
    "    print(\"Average (mean) degree of nodes: {}\".format(avg_degree))\n",
    "\n",
    "    # Cluster coefficient\n",
    "    cluster_coe = nx.algorithms.cluster.average_clustering(graph)\n",
    "    print(\"Clustering coefficient: {}\".format(cluster_coe))\n",
    "\n",
    "    try:\n",
    "        cycle = nx.find_cycle(graph)\n",
    "        print(\"Graph contains cycles, e.g. %s\" % str(cycle))\n",
    "    except:\n",
    "        print(\"Graph is a tree\")\n"
   ]
  },
  {
   "cell_type": "code",
   "execution_count": 94,
   "metadata": {},
   "outputs": [
    {
     "name": "stdout",
     "output_type": "stream",
     "text": [
      "Num of nodes: 32223\n",
      "Num of edges 31703\n",
      "Number of connected components 31704\n",
      "Number of nodes in the largest connected component: 520\n",
      "Diameter of the largest connected component: 5\n",
      "Average (mean) degree of nodes: 1.9677249169847624\n",
      "Clustering coefficient: 0.01135197560558961\n",
      "Graph contains cycles, e.g. [('isophonics_0', 'isophonics_2'), ('isophonics_2', 'isophonics_5'), ('isophonics_5', 'isophonics_0')]\n"
     ]
    }
   ],
   "source": [
    "graph_stat(graph_songs)"
   ]
  },
  {
   "cell_type": "markdown",
   "metadata": {},
   "source": [
    "## Task A.2\n",
    "How different is this network from a random network?\n",
    "\n",
    "The graph has 32223 nodes and 31703 edges, so the potential number of edges is n(n-1)/ = 519144753. and the frequency by which edges occur is p = 31703/519144753 = 6.106774616674206e-05"
   ]
  },
  {
   "cell_type": "code",
   "execution_count": 85,
   "metadata": {},
   "outputs": [],
   "source": [
    "num_nodes = 32223\n",
    "num_edges = 31703\n",
    "p = num_edges / (num_nodes*(num_nodes-1)/2) # p = 6.106774616674206e-05\n"
   ]
  },
  {
   "cell_type": "code",
   "execution_count": 87,
   "metadata": {},
   "outputs": [],
   "source": [
    "# Generate a random graph\n",
    "random_graph = nx.erdos_renyi_graph(n=num_nodes, p=p)"
   ]
  },
  {
   "cell_type": "code",
   "execution_count": 95,
   "metadata": {},
   "outputs": [
    {
     "name": "stdout",
     "output_type": "stream",
     "text": [
      "Num of nodes: 32223\n",
      "Num of edges 31711\n",
      "Number of connected components 5430\n",
      "Number of nodes in the largest connected component: 25388\n"
     ]
    },
    {
     "ename": "KeyboardInterrupt",
     "evalue": "",
     "output_type": "error",
     "traceback": [
      "\u001b[1;31m---------------------------------------------------------------------------\u001b[0m",
      "\u001b[1;31mKeyboardInterrupt\u001b[0m                         Traceback (most recent call last)",
      "\u001b[1;32me:\\Urban Informatics\\02-Network analysis 7CUSMNDA\\Coursework1\\Coding\\k20051526_script.ipynb Cell 12'\u001b[0m in \u001b[0;36m<module>\u001b[1;34m\u001b[0m\n\u001b[1;32m----> <a href='vscode-notebook-cell:/e%3A/Urban%20Informatics/02-Network%20analysis%207CUSMNDA/Coursework1/Coding/k20051526_script.ipynb#ch0000037?line=0'>1</a>\u001b[0m graph_stat(random_graph)\n",
      "\u001b[1;32me:\\Urban Informatics\\02-Network analysis 7CUSMNDA\\Coursework1\\Coding\\k20051526_script.ipynb Cell 7'\u001b[0m in \u001b[0;36mgraph_stat\u001b[1;34m(graph)\u001b[0m\n\u001b[0;32m      <a href='vscode-notebook-cell:/e%3A/Urban%20Informatics/02-Network%20analysis%207CUSMNDA/Coursework1/Coding/k20051526_script.ipynb#ch0000029?line=6'>7</a>\u001b[0m \u001b[39mprint\u001b[39m(\u001b[39m\"\u001b[39m\u001b[39mNumber of nodes in the largest connected component: \u001b[39m\u001b[39m{}\u001b[39;00m\u001b[39m\"\u001b[39m\u001b[39m.\u001b[39mformat(\u001b[39mlen\u001b[39m(largest)))\n\u001b[0;32m      <a href='vscode-notebook-cell:/e%3A/Urban%20Informatics/02-Network%20analysis%207CUSMNDA/Coursework1/Coding/k20051526_script.ipynb#ch0000029?line=8'>9</a>\u001b[0m component \u001b[39m=\u001b[39m graph\u001b[39m.\u001b[39msubgraph(largest)\n\u001b[1;32m---> <a href='vscode-notebook-cell:/e%3A/Urban%20Informatics/02-Network%20analysis%207CUSMNDA/Coursework1/Coding/k20051526_script.ipynb#ch0000029?line=9'>10</a>\u001b[0m largest_component_diameter \u001b[39m=\u001b[39m nx\u001b[39m.\u001b[39;49mdiameter(component)\n\u001b[0;32m     <a href='vscode-notebook-cell:/e%3A/Urban%20Informatics/02-Network%20analysis%207CUSMNDA/Coursework1/Coding/k20051526_script.ipynb#ch0000029?line=10'>11</a>\u001b[0m \u001b[39mprint\u001b[39m(\u001b[39m\"\u001b[39m\u001b[39mDiameter of the largest connected component: \u001b[39m\u001b[39m{}\u001b[39;00m\u001b[39m\"\u001b[39m\u001b[39m.\u001b[39mformat(largest_component_diameter))\n\u001b[0;32m     <a href='vscode-notebook-cell:/e%3A/Urban%20Informatics/02-Network%20analysis%207CUSMNDA/Coursework1/Coding/k20051526_script.ipynb#ch0000029?line=12'>13</a>\u001b[0m \u001b[39m# Average (mean) degree of nodes\u001b[39;00m\n",
      "File \u001b[1;32mD:\\software\\Anaconda\\envs\\msda2021\\lib\\site-packages\\networkx\\algorithms\\distance_measures.py:299\u001b[0m, in \u001b[0;36mdiameter\u001b[1;34m(G, e, usebounds)\u001b[0m\n\u001b[0;32m    <a href='file:///d%3A/software/Anaconda/envs/msda2021/lib/site-packages/networkx/algorithms/distance_measures.py?line=296'>297</a>\u001b[0m     \u001b[39mreturn\u001b[39;00m extrema_bounding(G, compute\u001b[39m=\u001b[39m\u001b[39m\"\u001b[39m\u001b[39mdiameter\u001b[39m\u001b[39m\"\u001b[39m)\n\u001b[0;32m    <a href='file:///d%3A/software/Anaconda/envs/msda2021/lib/site-packages/networkx/algorithms/distance_measures.py?line=297'>298</a>\u001b[0m \u001b[39mif\u001b[39;00m e \u001b[39mis\u001b[39;00m \u001b[39mNone\u001b[39;00m:\n\u001b[1;32m--> <a href='file:///d%3A/software/Anaconda/envs/msda2021/lib/site-packages/networkx/algorithms/distance_measures.py?line=298'>299</a>\u001b[0m     e \u001b[39m=\u001b[39m eccentricity(G)\n\u001b[0;32m    <a href='file:///d%3A/software/Anaconda/envs/msda2021/lib/site-packages/networkx/algorithms/distance_measures.py?line=299'>300</a>\u001b[0m \u001b[39mreturn\u001b[39;00m \u001b[39mmax\u001b[39m(e\u001b[39m.\u001b[39mvalues())\n",
      "File \u001b[1;32mD:\\software\\Anaconda\\envs\\msda2021\\lib\\site-packages\\networkx\\algorithms\\distance_measures.py:248\u001b[0m, in \u001b[0;36meccentricity\u001b[1;34m(G, v, sp)\u001b[0m\n\u001b[0;32m    <a href='file:///d%3A/software/Anaconda/envs/msda2021/lib/site-packages/networkx/algorithms/distance_measures.py?line=245'>246</a>\u001b[0m \u001b[39mfor\u001b[39;00m n \u001b[39min\u001b[39;00m G\u001b[39m.\u001b[39mnbunch_iter(v):\n\u001b[0;32m    <a href='file:///d%3A/software/Anaconda/envs/msda2021/lib/site-packages/networkx/algorithms/distance_measures.py?line=246'>247</a>\u001b[0m     \u001b[39mif\u001b[39;00m sp \u001b[39mis\u001b[39;00m \u001b[39mNone\u001b[39;00m:\n\u001b[1;32m--> <a href='file:///d%3A/software/Anaconda/envs/msda2021/lib/site-packages/networkx/algorithms/distance_measures.py?line=247'>248</a>\u001b[0m         length \u001b[39m=\u001b[39m nx\u001b[39m.\u001b[39;49msingle_source_shortest_path_length(G, n)\n\u001b[0;32m    <a href='file:///d%3A/software/Anaconda/envs/msda2021/lib/site-packages/networkx/algorithms/distance_measures.py?line=248'>249</a>\u001b[0m         L \u001b[39m=\u001b[39m \u001b[39mlen\u001b[39m(length)\n\u001b[0;32m    <a href='file:///d%3A/software/Anaconda/envs/msda2021/lib/site-packages/networkx/algorithms/distance_measures.py?line=249'>250</a>\u001b[0m     \u001b[39melse\u001b[39;00m:\n",
      "File \u001b[1;32mD:\\software\\Anaconda\\envs\\msda2021\\lib\\site-packages\\networkx\\algorithms\\shortest_paths\\unweighted.py:59\u001b[0m, in \u001b[0;36msingle_source_shortest_path_length\u001b[1;34m(G, source, cutoff)\u001b[0m\n\u001b[0;32m     <a href='file:///d%3A/software/Anaconda/envs/msda2021/lib/site-packages/networkx/algorithms/shortest_paths/unweighted.py?line=56'>57</a>\u001b[0m     cutoff \u001b[39m=\u001b[39m \u001b[39mfloat\u001b[39m(\u001b[39m\"\u001b[39m\u001b[39minf\u001b[39m\u001b[39m\"\u001b[39m)\n\u001b[0;32m     <a href='file:///d%3A/software/Anaconda/envs/msda2021/lib/site-packages/networkx/algorithms/shortest_paths/unweighted.py?line=57'>58</a>\u001b[0m nextlevel \u001b[39m=\u001b[39m {source: \u001b[39m1\u001b[39m}\n\u001b[1;32m---> <a href='file:///d%3A/software/Anaconda/envs/msda2021/lib/site-packages/networkx/algorithms/shortest_paths/unweighted.py?line=58'>59</a>\u001b[0m \u001b[39mreturn\u001b[39;00m \u001b[39mdict\u001b[39;49m(_single_shortest_path_length(G\u001b[39m.\u001b[39;49madj, nextlevel, cutoff))\n",
      "File \u001b[1;32mD:\\software\\Anaconda\\envs\\msda2021\\lib\\site-packages\\networkx\\algorithms\\shortest_paths\\unweighted.py:91\u001b[0m, in \u001b[0;36m_single_shortest_path_length\u001b[1;34m(adj, firstlevel, cutoff)\u001b[0m\n\u001b[0;32m     <a href='file:///d%3A/software/Anaconda/envs/msda2021/lib/site-packages/networkx/algorithms/shortest_paths/unweighted.py?line=88'>89</a>\u001b[0m         \u001b[39mreturn\u001b[39;00m\n\u001b[0;32m     <a href='file:///d%3A/software/Anaconda/envs/msda2021/lib/site-packages/networkx/algorithms/shortest_paths/unweighted.py?line=89'>90</a>\u001b[0m     \u001b[39mfor\u001b[39;00m v \u001b[39min\u001b[39;00m found:\n\u001b[1;32m---> <a href='file:///d%3A/software/Anaconda/envs/msda2021/lib/site-packages/networkx/algorithms/shortest_paths/unweighted.py?line=90'>91</a>\u001b[0m         nextlevel\u001b[39m.\u001b[39mupdate(adj[v])\n\u001b[0;32m     <a href='file:///d%3A/software/Anaconda/envs/msda2021/lib/site-packages/networkx/algorithms/shortest_paths/unweighted.py?line=91'>92</a>\u001b[0m     level \u001b[39m+\u001b[39m\u001b[39m=\u001b[39m \u001b[39m1\u001b[39m\n\u001b[0;32m     <a href='file:///d%3A/software/Anaconda/envs/msda2021/lib/site-packages/networkx/algorithms/shortest_paths/unweighted.py?line=92'>93</a>\u001b[0m \u001b[39mdel\u001b[39;00m seen\n",
      "File \u001b[1;32mD:\\software\\Anaconda\\envs\\msda2021\\lib\\site-packages\\networkx\\classes\\coreviews.py:79\u001b[0m, in \u001b[0;36mAdjacencyView.__getitem__\u001b[1;34m(self, name)\u001b[0m\n\u001b[0;32m     <a href='file:///d%3A/software/Anaconda/envs/msda2021/lib/site-packages/networkx/classes/coreviews.py?line=77'>78</a>\u001b[0m \u001b[39mdef\u001b[39;00m \u001b[39m__getitem__\u001b[39m(\u001b[39mself\u001b[39m, name):\n\u001b[1;32m---> <a href='file:///d%3A/software/Anaconda/envs/msda2021/lib/site-packages/networkx/classes/coreviews.py?line=78'>79</a>\u001b[0m     \u001b[39mreturn\u001b[39;00m AtlasView(\u001b[39mself\u001b[39;49m\u001b[39m.\u001b[39;49m_atlas[name])\n",
      "File \u001b[1;32mD:\\software\\Anaconda\\envs\\msda2021\\lib\\site-packages\\networkx\\classes\\coreviews.py:326\u001b[0m, in \u001b[0;36mFilterAdjacency.__getitem__\u001b[1;34m(self, node)\u001b[0m\n\u001b[0;32m    <a href='file:///d%3A/software/Anaconda/envs/msda2021/lib/site-packages/networkx/classes/coreviews.py?line=322'>323</a>\u001b[0m     \u001b[39mdef\u001b[39;00m \u001b[39mnew_node_ok\u001b[39m(nbr):\n\u001b[0;32m    <a href='file:///d%3A/software/Anaconda/envs/msda2021/lib/site-packages/networkx/classes/coreviews.py?line=323'>324</a>\u001b[0m         \u001b[39mreturn\u001b[39;00m \u001b[39mself\u001b[39m\u001b[39m.\u001b[39mNODE_OK(nbr) \u001b[39mand\u001b[39;00m \u001b[39mself\u001b[39m\u001b[39m.\u001b[39mEDGE_OK(node, nbr)\n\u001b[1;32m--> <a href='file:///d%3A/software/Anaconda/envs/msda2021/lib/site-packages/networkx/classes/coreviews.py?line=325'>326</a>\u001b[0m     \u001b[39mreturn\u001b[39;00m FilterAtlas(\u001b[39mself\u001b[39m\u001b[39m.\u001b[39m_atlas[node], new_node_ok)\n\u001b[0;32m    <a href='file:///d%3A/software/Anaconda/envs/msda2021/lib/site-packages/networkx/classes/coreviews.py?line=326'>327</a>\u001b[0m \u001b[39mraise\u001b[39;00m \u001b[39mKeyError\u001b[39;00m(\u001b[39mf\u001b[39m\u001b[39m\"\u001b[39m\u001b[39mKey \u001b[39m\u001b[39m{\u001b[39;00mnode\u001b[39m}\u001b[39;00m\u001b[39m not found\u001b[39m\u001b[39m\"\u001b[39m)\n",
      "\u001b[1;31mKeyboardInterrupt\u001b[0m: "
     ]
    }
   ],
   "source": [
    "graph_stat(random_graph)"
   ]
  },
  {
   "cell_type": "code",
   "execution_count": 96,
   "metadata": {},
   "outputs": [
    {
     "data": {
      "text/plain": [
       "1.9682214567234584"
      ]
     },
     "execution_count": 96,
     "metadata": {},
     "output_type": "execute_result"
    }
   ],
   "source": [
    "# average degree\n",
    "degree_sequence = [d for n, d in random_graph.degree()]\n",
    "sum(degree_sequence)/len(degree_sequence)"
   ]
  },
  {
   "cell_type": "markdown",
   "metadata": {},
   "source": [
    "The average degree of the random graph is 1.9682214567234584, which is close to p(n-1)=1.9677249169847626. This also match average degree of real songs graph=1.9677249169847624 because the p is derived form this real graph."
   ]
  },
  {
   "cell_type": "code",
   "execution_count": 90,
   "metadata": {},
   "outputs": [
    {
     "data": {
      "text/plain": [
       "0.00032214367880911633"
      ]
     },
     "execution_count": 90,
     "metadata": {},
     "output_type": "execute_result"
    }
   ],
   "source": [
    "import math\n",
    "ln = math.log(num_nodes)/num_nodes\n",
    "# p = 6.106774616674206e-05\n",
    "# math.log(num_nodes)/num_nodes = 0.00032214367880911633\n",
    "# p < math.log(num_nodes)/num_nodes, so this random graph has isolated nodes\n"
   ]
  },
  {
   "cell_type": "code",
   "execution_count": 99,
   "metadata": {},
   "outputs": [
    {
     "data": {
      "image/png": "[encoded data removed]",
      "text/plain": [
       "<Figure size 432x288 with 1 Axes>"
      ]
     },
     "metadata": {
      "needs_background": "light"
     },
     "output_type": "display_data"
    }
   ],
   "source": [
    "degree_count = collections.Counter(degree_sequence)\n",
    "deg, cnt = zip(*degree_count.items())\n",
    "\n",
    "fig, ax = plt.subplots()\n",
    "\n",
    "plt.bar(deg, cnt, width=0.80, color=\"b\")\n",
    "plt.title(\"Degree Histogram\")\n",
    "plt.ylabel(\"Count\")\n",
    "plt.xlabel(\"Degree\")\n",
    "plt.show()"
   ]
  },
  {
   "cell_type": "markdown",
   "metadata": {},
   "source": [
    "Expected degree of random graph should be p(n-1)="
   ]
  }
 ],
 "metadata": {
  "interpreter": {
   "hash": "3b0d87442a567a3f1f8077acbd32635a01c45ddbcce6833c0cbce7aac1a57224"
  },
  "kernelspec": {
   "display_name": "Python 3.9.7 ('nda')",
   "language": "python",
   "name": "python3"
  },
  "language_info": {
   "codemirror_mode": {
    "name": "ipython",
    "version": 3
   },
   "file_extension": ".py",
   "mimetype": "text/x-python",
   "name": "python",
   "nbconvert_exporter": "python",
   "pygments_lexer": "ipython3",
   "version": "3.8.10"
  },
  "orig_nbformat": 4
 },
 "nbformat": 4,
 "nbformat_minor": 2
}
