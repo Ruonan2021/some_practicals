{
 "cells": [
  {
   "cell_type": "code",
   "execution_count": 22,
   "metadata": {},
   "outputs": [],
   "source": [
    "import pandas as pd\n",
    "import numpy as np\n",
    "# Some pre-defined functions\n",
    "# function1: calculate the count and percentage by group\n",
    "def group_by_percentage(df, col_name, asc = False):\n",
    "    series_count = df.groupby([col_name]).size().sort_values(ascending=asc)\n",
    "    df_count = series_count.to_frame(name = 'count_cnt').reset_index()\n",
    "    df_count['percentage'] = round((df_count['count_cnt'] / df_count['count_cnt'].sum()) * 100, 2)\n",
    "    return df_count"
   ]
  },
  {
   "cell_type": "code",
   "execution_count": 38,
   "metadata": {},
   "outputs": [],
   "source": [
    "# In the file data.csv, you will find a dataset from Compustat, consisting of all US firms that have assets above $10M\n",
    "df1 = pd.read_csv('../Statistical analysis test/data.csv')"
   ]
  },
  {
   "cell_type": "code",
   "execution_count": 39,
   "metadata": {},
   "outputs": [
    {
     "name": "stdout",
     "output_type": "stream",
     "text": [
      "<class 'pandas.core.frame.DataFrame'>\n",
      "RangeIndex: 6122 entries, 0 to 6121\n",
      "Data columns (total 7 columns):\n",
      " #   Column  Non-Null Count  Dtype  \n",
      "---  ------  --------------  -----  \n",
      " 0   gvkey   6122 non-null   int64  \n",
      " 1   fyear   6122 non-null   int64  \n",
      " 2   tic     6122 non-null   object \n",
      " 3   conm    6122 non-null   object \n",
      " 4   oiadp   6122 non-null   float64\n",
      " 5   at      6122 non-null   float64\n",
      " 6   ind     6103 non-null   float64\n",
      "dtypes: float64(3), int64(2), object(2)\n",
      "memory usage: 334.9+ KB\n"
     ]
    }
   ],
   "source": [
    "df1.info()\n",
    "# gvkey:  Identifier(unique, 6122 entries)\n",
    "# fyear:  Fiscal year (2015 only in this dataset)\n",
    "# tic  :  A stock ticker is a report of the price for certain securities, updated continuously throughout the trading session by the various stock exchanges.\n",
    "# conm :  Company name(unique)\n",
    "# oiadp:  Operating income after depreciation\n",
    "# at   :  Total assets\n",
    "# ind  "
   ]
  },
  {
   "cell_type": "code",
   "execution_count": 40,
   "metadata": {},
   "outputs": [
    {
     "data": {
      "text/html": [
       "<div>\n",
       "<style scoped>\n",
       "    .dataframe tbody tr th:only-of-type {\n",
       "        vertical-align: middle;\n",
       "    }\n",
       "\n",
       "    .dataframe tbody tr th {\n",
       "        vertical-align: top;\n",
       "    }\n",
       "\n",
       "    .dataframe thead th {\n",
       "        text-align: right;\n",
       "    }\n",
       "</style>\n",
       "<table border=\"1\" class=\"dataframe\">\n",
       "  <thead>\n",
       "    <tr style=\"text-align: right;\">\n",
       "      <th></th>\n",
       "      <th>gvkey</th>\n",
       "      <th>fyear</th>\n",
       "      <th>tic</th>\n",
       "      <th>conm</th>\n",
       "      <th>oiadp</th>\n",
       "      <th>at</th>\n",
       "      <th>ind</th>\n",
       "    </tr>\n",
       "  </thead>\n",
       "  <tbody>\n",
       "    <tr>\n",
       "      <th>0</th>\n",
       "      <td>1004</td>\n",
       "      <td>2015</td>\n",
       "      <td>AIR</td>\n",
       "      <td>AAR CORP</td>\n",
       "      <td>66.100</td>\n",
       "      <td>1442.100</td>\n",
       "      <td>20.0</td>\n",
       "    </tr>\n",
       "    <tr>\n",
       "      <th>1</th>\n",
       "      <td>1045</td>\n",
       "      <td>2015</td>\n",
       "      <td>AAL</td>\n",
       "      <td>AMERICAN AIRLINES GROUP INC</td>\n",
       "      <td>7284.000</td>\n",
       "      <td>48415.000</td>\n",
       "      <td>20.0</td>\n",
       "    </tr>\n",
       "    <tr>\n",
       "      <th>2</th>\n",
       "      <td>1050</td>\n",
       "      <td>2015</td>\n",
       "      <td>CECE</td>\n",
       "      <td>CECO ENVIRONMENTAL CORP</td>\n",
       "      <td>28.651</td>\n",
       "      <td>598.819</td>\n",
       "      <td>20.0</td>\n",
       "    </tr>\n",
       "    <tr>\n",
       "      <th>3</th>\n",
       "      <td>1062</td>\n",
       "      <td>2015</td>\n",
       "      <td>ASA</td>\n",
       "      <td>ASA GOLD AND PRECIOUS METALS</td>\n",
       "      <td>-1.713</td>\n",
       "      <td>162.350</td>\n",
       "      <td>40.0</td>\n",
       "    </tr>\n",
       "    <tr>\n",
       "      <th>4</th>\n",
       "      <td>1072</td>\n",
       "      <td>2015</td>\n",
       "      <td>AVX</td>\n",
       "      <td>AVX CORP</td>\n",
       "      <td>169.302</td>\n",
       "      <td>2409.819</td>\n",
       "      <td>45.0</td>\n",
       "    </tr>\n",
       "  </tbody>\n",
       "</table>\n",
       "</div>"
      ],
      "text/plain": [
       "   gvkey  fyear   tic                          conm     oiadp         at   ind\n",
       "0   1004   2015   AIR                      AAR CORP    66.100   1442.100  20.0\n",
       "1   1045   2015   AAL   AMERICAN AIRLINES GROUP INC  7284.000  48415.000  20.0\n",
       "2   1050   2015  CECE       CECO ENVIRONMENTAL CORP    28.651    598.819  20.0\n",
       "3   1062   2015   ASA  ASA GOLD AND PRECIOUS METALS    -1.713    162.350  40.0\n",
       "4   1072   2015   AVX                      AVX CORP   169.302   2409.819  45.0"
      ]
     },
     "execution_count": 40,
     "metadata": {},
     "output_type": "execute_result"
    }
   ],
   "source": [
    "df1.head()"
   ]
  },
  {
   "cell_type": "code",
   "execution_count": 41,
   "metadata": {},
   "outputs": [
    {
     "data": {
      "text/html": [
       "<div>\n",
       "<style scoped>\n",
       "    .dataframe tbody tr th:only-of-type {\n",
       "        vertical-align: middle;\n",
       "    }\n",
       "\n",
       "    .dataframe tbody tr th {\n",
       "        vertical-align: top;\n",
       "    }\n",
       "\n",
       "    .dataframe thead th {\n",
       "        text-align: right;\n",
       "    }\n",
       "</style>\n",
       "<table border=\"1\" class=\"dataframe\">\n",
       "  <thead>\n",
       "    <tr style=\"text-align: right;\">\n",
       "      <th></th>\n",
       "      <th>gvkey</th>\n",
       "      <th>fyear</th>\n",
       "      <th>tic</th>\n",
       "      <th>conm</th>\n",
       "      <th>oiadp</th>\n",
       "      <th>at</th>\n",
       "      <th>ind</th>\n",
       "    </tr>\n",
       "  </thead>\n",
       "  <tbody>\n",
       "    <tr>\n",
       "      <th>2004</th>\n",
       "      <td>20694</td>\n",
       "      <td>2015</td>\n",
       "      <td>GGAC</td>\n",
       "      <td>GARNERO GROUP ACQUISITION CO</td>\n",
       "      <td>-1.205</td>\n",
       "      <td>144.601</td>\n",
       "      <td>NaN</td>\n",
       "    </tr>\n",
       "    <tr>\n",
       "      <th>2044</th>\n",
       "      <td>21013</td>\n",
       "      <td>2015</td>\n",
       "      <td>TRTL</td>\n",
       "      <td>TERRAPIN 3 ACQUISITION CORP</td>\n",
       "      <td>-0.633</td>\n",
       "      <td>213.299</td>\n",
       "      <td>NaN</td>\n",
       "    </tr>\n",
       "    <tr>\n",
       "      <th>2084</th>\n",
       "      <td>21378</td>\n",
       "      <td>2015</td>\n",
       "      <td>AXAR</td>\n",
       "      <td>AXAR ACQUISITION CORP</td>\n",
       "      <td>-0.965</td>\n",
       "      <td>240.723</td>\n",
       "      <td>NaN</td>\n",
       "    </tr>\n",
       "    <tr>\n",
       "      <th>2110</th>\n",
       "      <td>21600</td>\n",
       "      <td>2015</td>\n",
       "      <td>CADT</td>\n",
       "      <td>DT ASIA INVESTMENTS LTD</td>\n",
       "      <td>-1.450</td>\n",
       "      <td>70.218</td>\n",
       "      <td>NaN</td>\n",
       "    </tr>\n",
       "    <tr>\n",
       "      <th>2160</th>\n",
       "      <td>21944</td>\n",
       "      <td>2015</td>\n",
       "      <td>HRMN</td>\n",
       "      <td>HARMONY MERGER CORP</td>\n",
       "      <td>-0.338</td>\n",
       "      <td>117.813</td>\n",
       "      <td>NaN</td>\n",
       "    </tr>\n",
       "    <tr>\n",
       "      <th>2162</th>\n",
       "      <td>21954</td>\n",
       "      <td>2015</td>\n",
       "      <td>HDRA</td>\n",
       "      <td>HYDRA INDUSTRIES ACQUISITION</td>\n",
       "      <td>-3.531</td>\n",
       "      <td>80.330</td>\n",
       "      <td>NaN</td>\n",
       "    </tr>\n",
       "    <tr>\n",
       "      <th>2199</th>\n",
       "      <td>22225</td>\n",
       "      <td>2015</td>\n",
       "      <td>OACQF</td>\n",
       "      <td>ORIGO ACQUISITION CORP</td>\n",
       "      <td>-0.413</td>\n",
       "      <td>42.937</td>\n",
       "      <td>NaN</td>\n",
       "    </tr>\n",
       "    <tr>\n",
       "      <th>2207</th>\n",
       "      <td>22316</td>\n",
       "      <td>2015</td>\n",
       "      <td>ARWA</td>\n",
       "      <td>AROWANA INC</td>\n",
       "      <td>-0.444</td>\n",
       "      <td>84.569</td>\n",
       "      <td>NaN</td>\n",
       "    </tr>\n",
       "    <tr>\n",
       "      <th>2220</th>\n",
       "      <td>22480</td>\n",
       "      <td>2015</td>\n",
       "      <td>FNTC</td>\n",
       "      <td>FINTECH ACQUISITION CORP</td>\n",
       "      <td>-0.229</td>\n",
       "      <td>100.210</td>\n",
       "      <td>NaN</td>\n",
       "    </tr>\n",
       "    <tr>\n",
       "      <th>2265</th>\n",
       "      <td>22878</td>\n",
       "      <td>2015</td>\n",
       "      <td>QPAC</td>\n",
       "      <td>QUINPARIO ACQUISITION CORP 2</td>\n",
       "      <td>-1.028</td>\n",
       "      <td>351.112</td>\n",
       "      <td>NaN</td>\n",
       "    </tr>\n",
       "    <tr>\n",
       "      <th>2269</th>\n",
       "      <td>22982</td>\n",
       "      <td>2015</td>\n",
       "      <td>BHAC</td>\n",
       "      <td>BARINGTON/HILCO ACQ CORP</td>\n",
       "      <td>-0.478</td>\n",
       "      <td>43.897</td>\n",
       "      <td>NaN</td>\n",
       "    </tr>\n",
       "    <tr>\n",
       "      <th>2294</th>\n",
       "      <td>23175</td>\n",
       "      <td>2015</td>\n",
       "      <td>AAPCF</td>\n",
       "      <td>ATLANTIC ALLIANCE PARTNERSHP</td>\n",
       "      <td>-0.271</td>\n",
       "      <td>81.279</td>\n",
       "      <td>NaN</td>\n",
       "    </tr>\n",
       "    <tr>\n",
       "      <th>2356</th>\n",
       "      <td>23713</td>\n",
       "      <td>2015</td>\n",
       "      <td>GPIA</td>\n",
       "      <td>GP INVESTMENTS ACQUISITION</td>\n",
       "      <td>-0.209</td>\n",
       "      <td>173.554</td>\n",
       "      <td>NaN</td>\n",
       "    </tr>\n",
       "    <tr>\n",
       "      <th>2358</th>\n",
       "      <td>23721</td>\n",
       "      <td>2015</td>\n",
       "      <td>ELEC</td>\n",
       "      <td>ELECTRUM SPECIAL ACQUISITION</td>\n",
       "      <td>-0.327</td>\n",
       "      <td>201.050</td>\n",
       "      <td>NaN</td>\n",
       "    </tr>\n",
       "    <tr>\n",
       "      <th>2381</th>\n",
       "      <td>23936</td>\n",
       "      <td>2015</td>\n",
       "      <td>ECAC</td>\n",
       "      <td>E-COMPASS ACQUISITION CORP</td>\n",
       "      <td>-2.403</td>\n",
       "      <td>41.334</td>\n",
       "      <td>NaN</td>\n",
       "    </tr>\n",
       "    <tr>\n",
       "      <th>2696</th>\n",
       "      <td>26560</td>\n",
       "      <td>2015</td>\n",
       "      <td>LBTY.CM</td>\n",
       "      <td>LIBERTY GLOBAL PLC -CONSOL</td>\n",
       "      <td>2523.300</td>\n",
       "      <td>67867.200</td>\n",
       "      <td>NaN</td>\n",
       "    </tr>\n",
       "    <tr>\n",
       "      <th>2742</th>\n",
       "      <td>27326</td>\n",
       "      <td>2015</td>\n",
       "      <td>VRT.WI</td>\n",
       "      <td>VERTIV CO -SPN</td>\n",
       "      <td>320.800</td>\n",
       "      <td>4745.900</td>\n",
       "      <td>NaN</td>\n",
       "    </tr>\n",
       "    <tr>\n",
       "      <th>5040</th>\n",
       "      <td>174024</td>\n",
       "      <td>2015</td>\n",
       "      <td>USO</td>\n",
       "      <td>UNITED STATES OIL FUND LP</td>\n",
       "      <td>-1288.413</td>\n",
       "      <td>3177.729</td>\n",
       "      <td>NaN</td>\n",
       "    </tr>\n",
       "    <tr>\n",
       "      <th>5206</th>\n",
       "      <td>177034</td>\n",
       "      <td>2015</td>\n",
       "      <td>FE5</td>\n",
       "      <td>FIRSTENERGY SOLUTIONS CORP</td>\n",
       "      <td>277.000</td>\n",
       "      <td>13185.000</td>\n",
       "      <td>NaN</td>\n",
       "    </tr>\n",
       "  </tbody>\n",
       "</table>\n",
       "</div>"
      ],
      "text/plain": [
       "       gvkey  fyear      tic                          conm     oiadp  \\\n",
       "2004   20694   2015     GGAC  GARNERO GROUP ACQUISITION CO    -1.205   \n",
       "2044   21013   2015     TRTL   TERRAPIN 3 ACQUISITION CORP    -0.633   \n",
       "2084   21378   2015     AXAR         AXAR ACQUISITION CORP    -0.965   \n",
       "2110   21600   2015     CADT       DT ASIA INVESTMENTS LTD    -1.450   \n",
       "2160   21944   2015     HRMN           HARMONY MERGER CORP    -0.338   \n",
       "2162   21954   2015     HDRA  HYDRA INDUSTRIES ACQUISITION    -3.531   \n",
       "2199   22225   2015    OACQF        ORIGO ACQUISITION CORP    -0.413   \n",
       "2207   22316   2015     ARWA                   AROWANA INC    -0.444   \n",
       "2220   22480   2015     FNTC      FINTECH ACQUISITION CORP    -0.229   \n",
       "2265   22878   2015     QPAC  QUINPARIO ACQUISITION CORP 2    -1.028   \n",
       "2269   22982   2015     BHAC      BARINGTON/HILCO ACQ CORP    -0.478   \n",
       "2294   23175   2015    AAPCF  ATLANTIC ALLIANCE PARTNERSHP    -0.271   \n",
       "2356   23713   2015     GPIA    GP INVESTMENTS ACQUISITION    -0.209   \n",
       "2358   23721   2015     ELEC  ELECTRUM SPECIAL ACQUISITION    -0.327   \n",
       "2381   23936   2015     ECAC    E-COMPASS ACQUISITION CORP    -2.403   \n",
       "2696   26560   2015  LBTY.CM    LIBERTY GLOBAL PLC -CONSOL  2523.300   \n",
       "2742   27326   2015   VRT.WI                VERTIV CO -SPN   320.800   \n",
       "5040  174024   2015      USO     UNITED STATES OIL FUND LP -1288.413   \n",
       "5206  177034   2015      FE5    FIRSTENERGY SOLUTIONS CORP   277.000   \n",
       "\n",
       "             at  ind  \n",
       "2004    144.601  NaN  \n",
       "2044    213.299  NaN  \n",
       "2084    240.723  NaN  \n",
       "2110     70.218  NaN  \n",
       "2160    117.813  NaN  \n",
       "2162     80.330  NaN  \n",
       "2199     42.937  NaN  \n",
       "2207     84.569  NaN  \n",
       "2220    100.210  NaN  \n",
       "2265    351.112  NaN  \n",
       "2269     43.897  NaN  \n",
       "2294     81.279  NaN  \n",
       "2356    173.554  NaN  \n",
       "2358    201.050  NaN  \n",
       "2381     41.334  NaN  \n",
       "2696  67867.200  NaN  \n",
       "2742   4745.900  NaN  \n",
       "5040   3177.729  NaN  \n",
       "5206  13185.000  NaN  "
      ]
     },
     "execution_count": 41,
     "metadata": {},
     "output_type": "execute_result"
    }
   ],
   "source": [
    "df1.loc[df1['ind'].isna()]"
   ]
  },
  {
   "cell_type": "markdown",
   "metadata": {},
   "source": [
    "# Task 1\n",
    "## 1.1 Define variables\n",
    "• Return on assets: roa = oiadp / at \n",
    "\n",
    "• The (natural) logarithm of assets: lat = log(at)"
   ]
  },
  {
   "cell_type": "code",
   "execution_count": 42,
   "metadata": {},
   "outputs": [
    {
     "data": {
      "text/html": [
       "<div>\n",
       "<style scoped>\n",
       "    .dataframe tbody tr th:only-of-type {\n",
       "        vertical-align: middle;\n",
       "    }\n",
       "\n",
       "    .dataframe tbody tr th {\n",
       "        vertical-align: top;\n",
       "    }\n",
       "\n",
       "    .dataframe thead th {\n",
       "        text-align: right;\n",
       "    }\n",
       "</style>\n",
       "<table border=\"1\" class=\"dataframe\">\n",
       "  <thead>\n",
       "    <tr style=\"text-align: right;\">\n",
       "      <th></th>\n",
       "      <th>gvkey</th>\n",
       "      <th>fyear</th>\n",
       "      <th>tic</th>\n",
       "      <th>conm</th>\n",
       "      <th>oiadp</th>\n",
       "      <th>at</th>\n",
       "      <th>ind</th>\n",
       "    </tr>\n",
       "  </thead>\n",
       "  <tbody>\n",
       "  </tbody>\n",
       "</table>\n",
       "</div>"
      ],
      "text/plain": [
       "Empty DataFrame\n",
       "Columns: [gvkey, fyear, tic, conm, oiadp, at, ind]\n",
       "Index: []"
      ]
     },
     "execution_count": 42,
     "metadata": {},
     "output_type": "execute_result"
    }
   ],
   "source": [
    "# check: no denominator <= 0\n",
    "df1[df1['at'] <= 0]"
   ]
  },
  {
   "cell_type": "code",
   "execution_count": 43,
   "metadata": {},
   "outputs": [],
   "source": [
    "df1['roa'] = df1['oiadp'] / df1['at']\n",
    "# at is lighly skewed\n",
    "df1['lat'] = np.log(df1['at'])"
   ]
  },
  {
   "cell_type": "markdown",
   "metadata": {},
   "source": [
    "## 1.2 Regress(OLS)\n",
    "\n",
    "Then regress (using ordinary least squares) roa onto lat\n",
    "\n",
    "a. What is the regression coefficient? Is it statistically significant? \\\n",
    "   Answer: **If there is no constant in the LR model**, the coefficiency of lat is 0.0007, since p-value 0.165 is greater than 0.05/0.1, so this coef is not statistically significant\n",
    "\n",
    "b. Describe the meaning of the regression coefficient in one sentence.\\\n",
    "   Answer: One unit change of lat will cause an avaerage 0.0007 unit change onto roa in the same direction."
   ]
  },
  {
   "cell_type": "code",
   "execution_count": 100,
   "metadata": {},
   "outputs": [
    {
     "data": {
      "text/html": [
       "<table class=\"simpletable\">\n",
       "<caption>OLS Regression Results</caption>\n",
       "<tr>\n",
       "  <th>Dep. Variable:</th>           <td>roa</td>       <th>  R-squared (uncentered):</th>      <td>   0.000</td>\n",
       "</tr>\n",
       "<tr>\n",
       "  <th>Model:</th>                   <td>OLS</td>       <th>  Adj. R-squared (uncentered):</th> <td>   0.000</td>\n",
       "</tr>\n",
       "<tr>\n",
       "  <th>Method:</th>             <td>Least Squares</td>  <th>  F-statistic:       </th>          <td>   1.927</td>\n",
       "</tr>\n",
       "<tr>\n",
       "  <th>Date:</th>             <td>Sun, 17 Jul 2022</td> <th>  Prob (F-statistic):</th>           <td> 0.165</td> \n",
       "</tr>\n",
       "<tr>\n",
       "  <th>Time:</th>                 <td>10:12:34</td>     <th>  Log-Likelihood:    </th>          <td> -935.54</td>\n",
       "</tr>\n",
       "<tr>\n",
       "  <th>No. Observations:</th>      <td>  6122</td>      <th>  AIC:               </th>          <td>   1873.</td>\n",
       "</tr>\n",
       "<tr>\n",
       "  <th>Df Residuals:</th>          <td>  6121</td>      <th>  BIC:               </th>          <td>   1880.</td>\n",
       "</tr>\n",
       "<tr>\n",
       "  <th>Df Model:</th>              <td>     1</td>      <th>                     </th>              <td> </td>   \n",
       "</tr>\n",
       "<tr>\n",
       "  <th>Covariance Type:</th>      <td>nonrobust</td>    <th>                     </th>              <td> </td>   \n",
       "</tr>\n",
       "</table>\n",
       "<table class=\"simpletable\">\n",
       "<tr>\n",
       "   <td></td>      <th>coef</th>     <th>std err</th>      <th>t</th>      <th>P>|t|</th>  <th>[0.025</th>    <th>0.975]</th>  \n",
       "</tr>\n",
       "<tr>\n",
       "  <th>lat</th> <td>    0.0007</td> <td>    0.000</td> <td>    1.388</td> <td> 0.165</td> <td>   -0.000</td> <td>    0.002</td>\n",
       "</tr>\n",
       "</table>\n",
       "<table class=\"simpletable\">\n",
       "<tr>\n",
       "  <th>Omnibus:</th>       <td>5306.321</td> <th>  Durbin-Watson:     </th>  <td>   1.830</td> \n",
       "</tr>\n",
       "<tr>\n",
       "  <th>Prob(Omnibus):</th>  <td> 0.000</td>  <th>  Jarque-Bera (JB):  </th> <td>208836.514</td>\n",
       "</tr>\n",
       "<tr>\n",
       "  <th>Skew:</th>           <td>-4.024</td>  <th>  Prob(JB):          </th>  <td>    0.00</td> \n",
       "</tr>\n",
       "<tr>\n",
       "  <th>Kurtosis:</th>       <td>30.458</td>  <th>  Cond. No.          </th>  <td>    1.00</td> \n",
       "</tr>\n",
       "</table><br/><br/>Notes:<br/>[1] R² is computed without centering (uncentered) since the model does not contain a constant.<br/>[2] Standard Errors assume that the covariance matrix of the errors is correctly specified."
      ],
      "text/plain": [
       "<class 'statsmodels.iolib.summary.Summary'>\n",
       "\"\"\"\n",
       "                                 OLS Regression Results                                \n",
       "=======================================================================================\n",
       "Dep. Variable:                    roa   R-squared (uncentered):                   0.000\n",
       "Model:                            OLS   Adj. R-squared (uncentered):              0.000\n",
       "Method:                 Least Squares   F-statistic:                              1.927\n",
       "Date:                Sun, 17 Jul 2022   Prob (F-statistic):                       0.165\n",
       "Time:                        10:12:34   Log-Likelihood:                         -935.54\n",
       "No. Observations:                6122   AIC:                                      1873.\n",
       "Df Residuals:                    6121   BIC:                                      1880.\n",
       "Df Model:                           1                                                  \n",
       "Covariance Type:            nonrobust                                                  \n",
       "==============================================================================\n",
       "                 coef    std err          t      P>|t|      [0.025      0.975]\n",
       "------------------------------------------------------------------------------\n",
       "lat            0.0007      0.000      1.388      0.165      -0.000       0.002\n",
       "==============================================================================\n",
       "Omnibus:                     5306.321   Durbin-Watson:                   1.830\n",
       "Prob(Omnibus):                  0.000   Jarque-Bera (JB):           208836.514\n",
       "Skew:                          -4.024   Prob(JB):                         0.00\n",
       "Kurtosis:                      30.458   Cond. No.                         1.00\n",
       "==============================================================================\n",
       "\n",
       "Notes:\n",
       "[1] R² is computed without centering (uncentered) since the model does not contain a constant.\n",
       "[2] Standard Errors assume that the covariance matrix of the errors is correctly specified.\n",
       "\"\"\""
      ]
     },
     "execution_count": 100,
     "metadata": {},
     "output_type": "execute_result"
    }
   ],
   "source": [
    "import statsmodels.api as sm\n",
    "# without interception\n",
    "model_1 = sm.OLS(df1['roa'], df1['lat']).fit()\n",
    "model_1.summary()"
   ]
  },
  {
   "cell_type": "markdown",
   "metadata": {},
   "source": [
    "**However, if there is a constant in the LR model, result is different!**\n",
    "\n",
    "As we can see below, coefficency of lat is -0.3362, since p-value is 0, which is less than significance level of 0.05. Therefore, it is statistically significant.\n",
    "\n",
    "Under this circumstance, -0.3362 means one unit change of lat will cause an average 0.3362 unit change to roa in the opposite direction."
   ]
  },
  {
   "cell_type": "code",
   "execution_count": 101,
   "metadata": {},
   "outputs": [
    {
     "data": {
      "text/html": [
       "<table class=\"simpletable\">\n",
       "<caption>OLS Regression Results</caption>\n",
       "<tr>\n",
       "  <th>Dep. Variable:</th>           <td>roa</td>       <th>  R-squared:         </th> <td>   0.135</td> \n",
       "</tr>\n",
       "<tr>\n",
       "  <th>Model:</th>                   <td>OLS</td>       <th>  Adj. R-squared:    </th> <td>   0.134</td> \n",
       "</tr>\n",
       "<tr>\n",
       "  <th>Method:</th>             <td>Least Squares</td>  <th>  F-statistic:       </th> <td>   951.5</td> \n",
       "</tr>\n",
       "<tr>\n",
       "  <th>Date:</th>             <td>Sun, 17 Jul 2022</td> <th>  Prob (F-statistic):</th> <td>2.50e-194</td>\n",
       "</tr>\n",
       "<tr>\n",
       "  <th>Time:</th>                 <td>10:12:44</td>     <th>  Log-Likelihood:    </th> <td> -461.16</td> \n",
       "</tr>\n",
       "<tr>\n",
       "  <th>No. Observations:</th>      <td>  6122</td>      <th>  AIC:               </th> <td>   926.3</td> \n",
       "</tr>\n",
       "<tr>\n",
       "  <th>Df Residuals:</th>          <td>  6120</td>      <th>  BIC:               </th> <td>   939.8</td> \n",
       "</tr>\n",
       "<tr>\n",
       "  <th>Df Model:</th>              <td>     1</td>      <th>                     </th>     <td> </td>    \n",
       "</tr>\n",
       "<tr>\n",
       "  <th>Covariance Type:</th>      <td>nonrobust</td>    <th>                     </th>     <td> </td>    \n",
       "</tr>\n",
       "</table>\n",
       "<table class=\"simpletable\">\n",
       "<tr>\n",
       "      <td></td>         <th>coef</th>     <th>std err</th>      <th>t</th>      <th>P>|t|</th>  <th>[0.025</th>    <th>0.975]</th>  \n",
       "</tr>\n",
       "<tr>\n",
       "  <th>Intercept</th> <td>   -0.3362</td> <td>    0.010</td> <td>  -32.029</td> <td> 0.000</td> <td>   -0.357</td> <td>   -0.316</td>\n",
       "</tr>\n",
       "<tr>\n",
       "  <th>lat</th>       <td>    0.0449</td> <td>    0.001</td> <td>   30.846</td> <td> 0.000</td> <td>    0.042</td> <td>    0.048</td>\n",
       "</tr>\n",
       "</table>\n",
       "<table class=\"simpletable\">\n",
       "<tr>\n",
       "  <th>Omnibus:</th>       <td>5112.498</td> <th>  Durbin-Watson:     </th>  <td>   1.932</td> \n",
       "</tr>\n",
       "<tr>\n",
       "  <th>Prob(Omnibus):</th>  <td> 0.000</td>  <th>  Jarque-Bera (JB):  </th> <td>235340.275</td>\n",
       "</tr>\n",
       "<tr>\n",
       "  <th>Skew:</th>           <td>-3.722</td>  <th>  Prob(JB):          </th>  <td>    0.00</td> \n",
       "</tr>\n",
       "<tr>\n",
       "  <th>Kurtosis:</th>       <td>32.448</td>  <th>  Cond. No.          </th>  <td>    23.1</td> \n",
       "</tr>\n",
       "</table><br/><br/>Notes:<br/>[1] Standard Errors assume that the covariance matrix of the errors is correctly specified."
      ],
      "text/plain": [
       "<class 'statsmodels.iolib.summary.Summary'>\n",
       "\"\"\"\n",
       "                            OLS Regression Results                            \n",
       "==============================================================================\n",
       "Dep. Variable:                    roa   R-squared:                       0.135\n",
       "Model:                            OLS   Adj. R-squared:                  0.134\n",
       "Method:                 Least Squares   F-statistic:                     951.5\n",
       "Date:                Sun, 17 Jul 2022   Prob (F-statistic):          2.50e-194\n",
       "Time:                        10:12:44   Log-Likelihood:                -461.16\n",
       "No. Observations:                6122   AIC:                             926.3\n",
       "Df Residuals:                    6120   BIC:                             939.8\n",
       "Df Model:                           1                                         \n",
       "Covariance Type:            nonrobust                                         \n",
       "==============================================================================\n",
       "                 coef    std err          t      P>|t|      [0.025      0.975]\n",
       "------------------------------------------------------------------------------\n",
       "Intercept     -0.3362      0.010    -32.029      0.000      -0.357      -0.316\n",
       "lat            0.0449      0.001     30.846      0.000       0.042       0.048\n",
       "==============================================================================\n",
       "Omnibus:                     5112.498   Durbin-Watson:                   1.932\n",
       "Prob(Omnibus):                  0.000   Jarque-Bera (JB):           235340.275\n",
       "Skew:                          -3.722   Prob(JB):                         0.00\n",
       "Kurtosis:                      32.448   Cond. No.                         23.1\n",
       "==============================================================================\n",
       "\n",
       "Notes:\n",
       "[1] Standard Errors assume that the covariance matrix of the errors is correctly specified.\n",
       "\"\"\""
      ]
     },
     "execution_count": 101,
     "metadata": {},
     "output_type": "execute_result"
    }
   ],
   "source": [
    "import statsmodels.formula.api as smf\n",
    "model_2 = smf.ols(formula='roa ~ 1 + lat', data=df1).fit()\n",
    "model_2.summary()"
   ]
  },
  {
   "cell_type": "code",
   "execution_count": 102,
   "metadata": {},
   "outputs": [
    {
     "data": {
      "text/plain": [
       "[<matplotlib.lines.Line2D at 0x2935d5552b0>]"
      ]
     },
     "execution_count": 102,
     "metadata": {},
     "output_type": "execute_result"
    },
    {
     "data": {
      "image/png": "[encoded data removed]",
      "text/plain": [
       "<Figure size 432x288 with 1 Axes>"
      ]
     },
     "metadata": {
      "needs_background": "light"
     },
     "output_type": "display_data"
    }
   ],
   "source": [
    "para1 = model_1.params\n",
    "ax = df1.plot(kind='scatter', x='lat', y='roa')\n",
    "ax.plot(df1['roa'], para1.lat * df1['lat'])\n"
   ]
  },
  {
   "cell_type": "code",
   "execution_count": 105,
   "metadata": {},
   "outputs": [
    {
     "data": {
      "text/plain": [
       "[<matplotlib.lines.Line2D at 0x2935d5b3fa0>]"
      ]
     },
     "execution_count": 105,
     "metadata": {},
     "output_type": "execute_result"
    },
    {
     "data": {
      "image/png": "[encoded data removed]",
      "text/plain": [
       "<Figure size 432x288 with 1 Axes>"
      ]
     },
     "metadata": {
      "needs_background": "light"
     },
     "output_type": "display_data"
    }
   ],
   "source": [
    "para2 = model_2.params\n",
    "ax = df1.plot(kind='scatter', x='lat', y='roa')\n",
    "ax.plot(df1['lat'], para2.Intercept + para2.lat * df1['lat'])"
   ]
  },
  {
   "cell_type": "markdown",
   "metadata": {},
   "source": [
    "## Task 2\n",
    "Now perform the same regression, but include industry fixed effects\\\n",
    "a. Which industry sector is on average most profitable?\\\n",
    "    Answer: Consumer Staples\n",
    "\n",
    "b. What is the regression coefficient of lat? Is it statistically significant?\\\n",
    "    Answer: 0.0373, since p-value is 0, which is less than the usual significance level of 0.05. Therefore, it is statistically significant.\n",
    "\n",
    "c. Describe the meaning of the regression coefficient in one sentence\\\n",
    "    Answer: In the regression model with dummy variables, positive coefficient means that roa on average is higher for the industry than others, while the \n",
    "    negative coefficient means roa of this industry on average is lower than other industries.\n",
    "\n",
    "d. In a few sentences, explain the meaning of the difference of this coefficient compared to the previous one (in exercise 1)\\\n",
    "    Answer:\\\n",
    "    1) The coefficient of previous is only for random variable(lat), which represents for the average increase/decrease when one unit of variable changed.\\\n",
    "    2) The coefficient of exercise 2 is for dummy variables, which means the average difference between different categories since dummy variables can only be 1 or 0.\n",
    "\n",
    "\n"
   ]
  },
  {
   "cell_type": "code",
   "execution_count": 106,
   "metadata": {},
   "outputs": [],
   "source": [
    "# Estimating a fixed effects model is equivalent to \n",
    "# adding a dummy variable for each subject or unit of interest in the standard OLS model.\n",
    "# 1. drop rows that column ind contains na\n",
    "df2 = df1.loc[df1['ind'].notna()]"
   ]
  },
  {
   "cell_type": "code",
   "execution_count": 107,
   "metadata": {},
   "outputs": [
    {
     "name": "stderr",
     "output_type": "stream",
     "text": [
      "<ipython-input-107-ae2b8c1cf6ed>:2: SettingWithCopyWarning: \n",
      "A value is trying to be set on a copy of a slice from a DataFrame.\n",
      "Try using .loc[row_indexer,col_indexer] = value instead\n",
      "\n",
      "See the caveats in the documentation: https://pandas.pydata.org/pandas-docs/stable/user_guide/indexing.html#returning-a-view-versus-a-copy\n",
      "  df2['catefory_ind'] = pd.Categorical(df2['ind'])\n"
     ]
    }
   ],
   "source": [
    "# 2. categorise ind\n",
    "df2['catefory_ind'] = pd.Categorical(df2['ind'])"
   ]
  },
  {
   "cell_type": "code",
   "execution_count": 108,
   "metadata": {},
   "outputs": [
    {
     "name": "stdout",
     "output_type": "stream",
     "text": [
      "                            OLS Regression Results                            \n",
      "==============================================================================\n",
      "Dep. Variable:                    roa   R-squared:                       0.240\n",
      "Model:                            OLS   Adj. R-squared:                  0.239\n",
      "Method:                 Least Squares   F-statistic:                     175.1\n",
      "Date:                Sun, 17 Jul 2022   Prob (F-statistic):               0.00\n",
      "Time:                        10:13:23   Log-Likelihood:                -70.692\n",
      "No. Observations:                6103   AIC:                             165.4\n",
      "Df Residuals:                    6091   BIC:                             246.0\n",
      "Df Model:                          11                                         \n",
      "Covariance Type:            nonrobust                                         \n",
      "===========================================================================================\n",
      "                              coef    std err          t      P>|t|      [0.025      0.975]\n",
      "-------------------------------------------------------------------------------------------\n",
      "Intercept                  -0.4221      0.015    -27.240      0.000      -0.452      -0.392\n",
      "C(catefory_ind)[T.15.0]     0.1619      0.017      9.259      0.000       0.128       0.196\n",
      "C(catefory_ind)[T.20.0]     0.2160      0.015     14.787      0.000       0.187       0.245\n",
      "C(catefory_ind)[T.25.0]     0.2316      0.015     15.749      0.000       0.203       0.260\n",
      "C(catefory_ind)[T.30.0]     0.2451      0.020     12.558      0.000       0.207       0.283\n",
      "C(catefory_ind)[T.35.0]    -0.0385      0.014     -2.719      0.007      -0.066      -0.011\n",
      "C(catefory_ind)[T.40.0]     0.1613      0.013     12.068      0.000       0.135       0.188\n",
      "C(catefory_ind)[T.45.0]     0.1703      0.014     11.925      0.000       0.142       0.198\n",
      "C(catefory_ind)[T.50.0]     0.1698      0.019      9.067      0.000       0.133       0.206\n",
      "C(catefory_ind)[T.55.0]     0.1447      0.019      7.605      0.000       0.107       0.182\n",
      "C(catefory_ind)[T.60.0]     0.1776      0.018      9.629      0.000       0.141       0.214\n",
      "lat                         0.0373      0.001     24.976      0.000       0.034       0.040\n",
      "==============================================================================\n",
      "Omnibus:                     5031.612   Durbin-Watson:                   1.948\n",
      "Prob(Omnibus):                  0.000   Jarque-Bera (JB):           270301.621\n",
      "Skew:                          -3.583   Prob(JB):                         0.00\n",
      "Kurtosis:                      34.806   Cond. No.                         91.2\n",
      "==============================================================================\n",
      "\n",
      "Notes:\n",
      "[1] Standard Errors assume that the covariance matrix of the errors is correctly specified.\n"
     ]
    }
   ],
   "source": [
    "# 3. LR model with dummy variable\n",
    "import statsmodels.formula.api as smf\n",
    "FE_ols = smf.ols(formula='roa ~ 1 + lat +  + C(catefory_ind)', data=df2).fit()\n",
    "print(FE_ols.summary())\n"
   ]
  },
  {
   "cell_type": "markdown",
   "metadata": {},
   "source": [
    "# Task 3\n",
    "Now add the squared term of the log-assets as a regressor to the regression of exercise 1 (no fixed effects), i.e. regress roa onto lat and lat^2\n",
    "\n",
    "a. What are the regression coefficients of lat and its square? Are they statistically significant?\\\n",
    "Answer: \\\n",
    "coefficient of lat: 0.1960\\\n",
    "coefficient of lat*lat: -0.0106\\\n",
    "Both of their p-value is 0, so it is statistically significant\n",
    "\n",
    "b. Is there a level of assets for which, on average, profitability is at a minimum or maximum? If so, at which level?\\\n",
    "Answer:\\\n",
    "level of asset for e^9.222901(10126.398440321449) profitability is at a maximum(0.087023)\\\n",
    "level of asset for e^2.307175(10.046004567637427) profitability is at a minimum(-0.421117)\n",
    "\n",
    "\n",
    "c. In a few sentences, provide a potential explanation for why the relation between RoA and company size is as you observe.\\\n",
    "Answer:\\\n",
    "Generally, roa is positively related with the company size(or asset/log(asset)). Which means the higher level asset, the higher roa will be.\\\n",
    "However, the square of lat is negatively related with roa. But the impact of the square is less than lat itself. \\\n",
    "Therefore, there will be a threshold of asset. Below this threshold, the roc will increase as the asset increasing. Once the asset is higher than this threshold, the roc will decrease. The calcualtion of this threshold is: $$- \\frac{\\text{coefficient of lat}}{2 * \\text{coefficient of lat}^2}$$\n",
    "\n"
   ]
  },
  {
   "cell_type": "code",
   "execution_count": 109,
   "metadata": {},
   "outputs": [
    {
     "name": "stdout",
     "output_type": "stream",
     "text": [
      "                            OLS Regression Results                            \n",
      "==============================================================================\n",
      "Dep. Variable:                    roa   R-squared:                       0.204\n",
      "Model:                            OLS   Adj. R-squared:                  0.204\n",
      "Method:                 Least Squares   F-statistic:                     784.4\n",
      "Date:                Sun, 17 Jul 2022   Prob (F-statistic):          5.31e-304\n",
      "Time:                        10:13:27   Log-Likelihood:                -204.85\n",
      "No. Observations:                6122   AIC:                             415.7\n",
      "Df Residuals:                    6119   BIC:                             435.9\n",
      "Df Model:                           2                                         \n",
      "Covariance Type:            nonrobust                                         \n",
      "====================================================================================\n",
      "                       coef    std err          t      P>|t|      [0.025      0.975]\n",
      "------------------------------------------------------------------------------------\n",
      "Intercept           -0.8167      0.023    -35.363      0.000      -0.862      -0.771\n",
      "lat                  0.1960      0.007     29.326      0.000       0.183       0.209\n",
      "np.power(lat, 2)    -0.0106      0.000    -23.118      0.000      -0.012      -0.010\n",
      "==============================================================================\n",
      "Omnibus:                     5029.497   Durbin-Watson:                   1.944\n",
      "Prob(Omnibus):                  0.000   Jarque-Bera (JB):           272922.086\n",
      "Skew:                          -3.559   Prob(JB):                         0.00\n",
      "Kurtosis:                      34.926   Cond. No.                         466.\n",
      "==============================================================================\n",
      "\n",
      "Notes:\n",
      "[1] Standard Errors assume that the covariance matrix of the errors is correctly specified.\n"
     ]
    }
   ],
   "source": [
    "model_3 = smf.ols(formula='roa ~ 1 + lat + np.power(lat, 2)', data=df1).fit()\n",
    "print(model_3.summary())"
   ]
  },
  {
   "cell_type": "code",
   "execution_count": 131,
   "metadata": {},
   "outputs": [],
   "source": [
    "d = {'lat': df1['lat'], 'lat^2': np.power(df1['lat'], 2), 'roa': df1['roa'], 'pred_roa':model_3.predict()}\n",
    "df_pred = pd.DataFrame(data=d)"
   ]
  },
  {
   "cell_type": "code",
   "execution_count": 133,
   "metadata": {},
   "outputs": [
    {
     "data": {
      "text/plain": [
       "lat          9.222901\n",
       "lat^2       85.061906\n",
       "roa          0.106237\n",
       "pred_roa     0.087023\n",
       "Name: 3574, dtype: float64"
      ]
     },
     "execution_count": 133,
     "metadata": {},
     "output_type": "execute_result"
    }
   ],
   "source": [
    "# level of asset for e^9.222901(10126.398440321449) profitability is at a maximum\n",
    "df_pred.loc[df_pred['pred_roa'].idxmax()]"
   ]
  },
  {
   "cell_type": "code",
   "execution_count": 148,
   "metadata": {},
   "outputs": [
    {
     "data": {
      "text/plain": [
       "lat         2.307175\n",
       "lat^2       5.323054\n",
       "roa        -0.612582\n",
       "pred_roa   -0.421117\n",
       "Name: 3718, dtype: float64"
      ]
     },
     "execution_count": 148,
     "metadata": {},
     "output_type": "execute_result"
    }
   ],
   "source": [
    "# level of asset for e^2.307175(10.046004567637427) profitability is at a minimum\n",
    "df_pred.loc[df_pred['pred_roa'].idxmin()]"
   ]
  },
  {
   "cell_type": "code",
   "execution_count": 147,
   "metadata": {},
   "outputs": [
    {
     "data": {
      "text/plain": [
       "10.046004567637427"
      ]
     },
     "execution_count": 147,
     "metadata": {},
     "output_type": "execute_result"
    }
   ],
   "source": [
    "np.power(np.e, 2.307175)"
   ]
  },
  {
   "cell_type": "code",
   "execution_count": 149,
   "metadata": {},
   "outputs": [
    {
     "data": {
      "text/html": [
       "<div>\n",
       "<style scoped>\n",
       "    .dataframe tbody tr th:only-of-type {\n",
       "        vertical-align: middle;\n",
       "    }\n",
       "\n",
       "    .dataframe tbody tr th {\n",
       "        vertical-align: top;\n",
       "    }\n",
       "\n",
       "    .dataframe thead th {\n",
       "        text-align: right;\n",
       "    }\n",
       "</style>\n",
       "<table border=\"1\" class=\"dataframe\">\n",
       "  <thead>\n",
       "    <tr style=\"text-align: right;\">\n",
       "      <th></th>\n",
       "      <th>lat</th>\n",
       "      <th>lat^2</th>\n",
       "      <th>roa</th>\n",
       "      <th>pred_roa</th>\n",
       "    </tr>\n",
       "  </thead>\n",
       "  <tbody>\n",
       "    <tr>\n",
       "      <th>0</th>\n",
       "      <td>7.273856</td>\n",
       "      <td>52.908976</td>\n",
       "      <td>0.045836</td>\n",
       "      <td>0.046671</td>\n",
       "    </tr>\n",
       "    <tr>\n",
       "      <th>1</th>\n",
       "      <td>10.787565</td>\n",
       "      <td>116.371558</td>\n",
       "      <td>0.150449</td>\n",
       "      <td>0.061001</td>\n",
       "    </tr>\n",
       "    <tr>\n",
       "      <th>2</th>\n",
       "      <td>6.394959</td>\n",
       "      <td>40.895505</td>\n",
       "      <td>0.047846</td>\n",
       "      <td>0.002066</td>\n",
       "    </tr>\n",
       "    <tr>\n",
       "      <th>3</th>\n",
       "      <td>5.089754</td>\n",
       "      <td>25.905601</td>\n",
       "      <td>-0.010551</td>\n",
       "      <td>-0.094465</td>\n",
       "    </tr>\n",
       "    <tr>\n",
       "      <th>4</th>\n",
       "      <td>7.787307</td>\n",
       "      <td>60.642149</td>\n",
       "      <td>0.070255</td>\n",
       "      <td>0.065133</td>\n",
       "    </tr>\n",
       "    <tr>\n",
       "      <th>...</th>\n",
       "      <td>...</td>\n",
       "      <td>...</td>\n",
       "      <td>...</td>\n",
       "      <td>...</td>\n",
       "    </tr>\n",
       "    <tr>\n",
       "      <th>6117</th>\n",
       "      <td>8.585443</td>\n",
       "      <td>73.709823</td>\n",
       "      <td>0.025905</td>\n",
       "      <td>0.082709</td>\n",
       "    </tr>\n",
       "    <tr>\n",
       "      <th>6118</th>\n",
       "      <td>3.910221</td>\n",
       "      <td>15.289831</td>\n",
       "      <td>-0.339531</td>\n",
       "      <td>-0.212841</td>\n",
       "    </tr>\n",
       "    <tr>\n",
       "      <th>6119</th>\n",
       "      <td>11.300400</td>\n",
       "      <td>127.699048</td>\n",
       "      <td>0.008435</td>\n",
       "      <td>0.041152</td>\n",
       "    </tr>\n",
       "    <tr>\n",
       "      <th>6120</th>\n",
       "      <td>4.547912</td>\n",
       "      <td>20.683501</td>\n",
       "      <td>-0.157579</td>\n",
       "      <td>-0.145172</td>\n",
       "    </tr>\n",
       "    <tr>\n",
       "      <th>6121</th>\n",
       "      <td>3.554147</td>\n",
       "      <td>12.631963</td>\n",
       "      <td>-0.236226</td>\n",
       "      <td>-0.254386</td>\n",
       "    </tr>\n",
       "  </tbody>\n",
       "</table>\n",
       "<p>6122 rows × 4 columns</p>\n",
       "</div>"
      ],
      "text/plain": [
       "            lat       lat^2       roa  pred_roa\n",
       "0      7.273856   52.908976  0.045836  0.046671\n",
       "1     10.787565  116.371558  0.150449  0.061001\n",
       "2      6.394959   40.895505  0.047846  0.002066\n",
       "3      5.089754   25.905601 -0.010551 -0.094465\n",
       "4      7.787307   60.642149  0.070255  0.065133\n",
       "...         ...         ...       ...       ...\n",
       "6117   8.585443   73.709823  0.025905  0.082709\n",
       "6118   3.910221   15.289831 -0.339531 -0.212841\n",
       "6119  11.300400  127.699048  0.008435  0.041152\n",
       "6120   4.547912   20.683501 -0.157579 -0.145172\n",
       "6121   3.554147   12.631963 -0.236226 -0.254386\n",
       "\n",
       "[6122 rows x 4 columns]"
      ]
     },
     "execution_count": 149,
     "metadata": {},
     "output_type": "execute_result"
    }
   ],
   "source": [
    "df_pred"
   ]
  },
  {
   "cell_type": "code",
   "execution_count": null,
   "metadata": {},
   "outputs": [],
   "source": []
  }
 ],
 "metadata": {
  "kernelspec": {
   "display_name": "Python 3.8.10 ('msda2021')",
   "language": "python",
   "name": "python3"
  },
  "language_info": {
   "codemirror_mode": {
    "name": "ipython",
    "version": 3
   },
   "file_extension": ".py",
   "mimetype": "text/x-python",
   "name": "python",
   "nbconvert_exporter": "python",
   "pygments_lexer": "ipython3",
   "version": "3.8.10"
  },
  "orig_nbformat": 4,
  "vscode": {
   "interpreter": {
    "hash": "9fafd6bcf5e1fe2740be7d2fa2017a4f309da18b19103caf01d7400293b3295e"
   }
  }
 },
 "nbformat": 4,
 "nbformat_minor": 2
}
