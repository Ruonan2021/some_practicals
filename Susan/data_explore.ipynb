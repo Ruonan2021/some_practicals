{
 "cells": [
  {
   "cell_type": "code",
   "execution_count": 104,
   "metadata": {},
   "outputs": [],
   "source": [
    "import pandas as pd\n",
    "pd.set_option('display.max_rows', 20)\n",
    "pd.set_option('display.max_columns', 500)\n",
    "pd.set_option('max_colwidth', 800)\n",
    "pd.set_option('display.width', 1000)\n",
    "import matplotlib.pyplot as plt\n",
    "import seaborn as sns\n",
    "%matplotlib inline\n"
   ]
  },
  {
   "cell_type": "code",
   "execution_count": 57,
   "metadata": {},
   "outputs": [],
   "source": [
    "df_raw = pd.read_excel('based_on_text.xlsx')"
   ]
  },
  {
   "cell_type": "code",
   "execution_count": 59,
   "metadata": {},
   "outputs": [
    {
     "data": {
      "text/html": [
       "<div>\n",
       "<style scoped>\n",
       "    .dataframe tbody tr th:only-of-type {\n",
       "        vertical-align: middle;\n",
       "    }\n",
       "\n",
       "    .dataframe tbody tr th {\n",
       "        vertical-align: top;\n",
       "    }\n",
       "\n",
       "    .dataframe thead th {\n",
       "        text-align: right;\n",
       "    }\n",
       "</style>\n",
       "<table border=\"1\" class=\"dataframe\">\n",
       "  <thead>\n",
       "    <tr style=\"text-align: right;\">\n",
       "      <th></th>\n",
       "      <th>序号</th>\n",
       "      <th>提交答卷时间</th>\n",
       "      <th>所用时间</th>\n",
       "      <th>来源</th>\n",
       "      <th>来源详情</th>\n",
       "      <th>来自IP</th>\n",
       "      <th>1、I have read the Information Sheet and I am willing to participate in the survey.</th>\n",
       "      <th>2、Gender</th>\n",
       "      <th>3、What is your level of education?</th>\n",
       "      <th>4、What type of English classes do you teach?</th>\n",
       "      <th>...</th>\n",
       "      <th>12、Both teachers and students have knowledge about online software services available.</th>\n",
       "      <th>12、Both teachers and students have experience about the usage of online software.</th>\n",
       "      <th>13、In terms of technology, how do you feel about the effectiveness of factors for teaching English online?—The online software is simple and flexible to use.</th>\n",
       "      <th>13、The online software provides students with fast access to information.</th>\n",
       "      <th>13、Both the teachers and students have knowledge about the usage of online software .</th>\n",
       "      <th>13、The online software could offer good organization of course content and activities.</th>\n",
       "      <th>13、The online software could offer upload and download attachments without delays. ( e.g.: the slide and the audio file)</th>\n",
       "      <th>14、What factor do you think is the most effective for teaching English online during Covid-19? (e.g. How to design the class that could enable the students to concentrate on it )</th>\n",
       "      <th>15、What factor do you think is the least effective for teaching English online during Covid-19?(e.g. Almost all students and teachers have computers or mobile phones and have access to Internet.)</th>\n",
       "      <th>总分</th>\n",
       "    </tr>\n",
       "  </thead>\n",
       "  <tbody>\n",
       "    <tr>\n",
       "      <th>0</th>\n",
       "      <td>1</td>\n",
       "      <td>2022/6/23 23:35:24</td>\n",
       "      <td>430秒</td>\n",
       "      <td>微信</td>\n",
       "      <td>NaN</td>\n",
       "      <td>92.40.179.54(国外-英国)</td>\n",
       "      <td>Yes</td>\n",
       "      <td>Female</td>\n",
       "      <td>Master</td>\n",
       "      <td>Primary school or below primary education┋Othe...</td>\n",
       "      <td>...</td>\n",
       "      <td>Slightly ineffective</td>\n",
       "      <td>Slightly ineffective</td>\n",
       "      <td>Ineffective</td>\n",
       "      <td>Ineffective</td>\n",
       "      <td>Ineffective</td>\n",
       "      <td>Ineffective</td>\n",
       "      <td>Slightly effective</td>\n",
       "      <td>(空)</td>\n",
       "      <td>(空)</td>\n",
       "      <td>124</td>\n",
       "    </tr>\n",
       "  </tbody>\n",
       "</table>\n",
       "<p>1 rows × 52 columns</p>\n",
       "</div>"
      ],
      "text/plain": [
       "   序号              提交答卷时间  所用时间  来源 来源详情                 来自IP  \\\n",
       "0   1  2022/6/23 23:35:24  430秒  微信  NaN  92.40.179.54(国外-英国)   \n",
       "\n",
       "  1、I have read the Information Sheet and I am willing to participate in the survey.  \\\n",
       "0                                                Yes                                   \n",
       "\n",
       "  2、Gender 3、What is your level of education?  \\\n",
       "0   Female                             Master   \n",
       "\n",
       "        4、What type of English classes do you teach?  ...  \\\n",
       "0  Primary school or below primary education┋Othe...  ...   \n",
       "\n",
       "  12、Both teachers and students have knowledge about online software services available.  \\\n",
       "0                               Slightly ineffective                                       \n",
       "\n",
       "  12、Both teachers and students have experience about the usage of online software.  \\\n",
       "0                               Slightly ineffective                                  \n",
       "\n",
       "  13、In terms of technology, how do you feel about the effectiveness of factors for teaching English online?—The online software is simple and flexible to use.  \\\n",
       "0                                        Ineffective                                                                                                              \n",
       "\n",
       "  13、The online software provides students with fast access to information.  \\\n",
       "0                                        Ineffective                          \n",
       "\n",
       "  13、Both the teachers and students have knowledge about the usage of online software .  \\\n",
       "0                                        Ineffective                                      \n",
       "\n",
       "  13、The online software could offer good organization of course content and activities.  \\\n",
       "0                                        Ineffective                                       \n",
       "\n",
       "  13、The online software could offer upload and download attachments without delays. ( e.g.: the slide and the audio file)  \\\n",
       "0                                 Slightly effective                                                                         \n",
       "\n",
       "  14、What factor do you think is the most effective for teaching English online during Covid-19? (e.g. How to design the class that could enable the students to concentrate on it )  \\\n",
       "0                                                (空)                                                                                                                                   \n",
       "\n",
       "  15、What factor do you think is the least effective for teaching English online during Covid-19?(e.g. Almost all students and teachers have computers or mobile phones and have access to Internet.)  \\\n",
       "0                                                (空)                                                                                                                                                    \n",
       "\n",
       "    总分  \n",
       "0  124  \n",
       "\n",
       "[1 rows x 52 columns]"
      ]
     },
     "execution_count": 59,
     "metadata": {},
     "output_type": "execute_result"
    }
   ],
   "source": [
    "df_raw.head(1)"
   ]
  },
  {
   "cell_type": "code",
   "execution_count": 60,
   "metadata": {},
   "outputs": [],
   "source": [
    "def group_by_percentage(df, col_name, asc = False):\n",
    "    series_count = df.groupby([col_name]).size().sort_values(ascending=asc)\n",
    "    df_count = series_count.to_frame(name = 'count_cnt').reset_index()\n",
    "    df_count['percentage'] = round((df_count['count_cnt'] / df_count['count_cnt'].sum()) * 100, 2)\n",
    "    return df_count"
   ]
  },
  {
   "cell_type": "markdown",
   "metadata": {},
   "source": [
    "# 1. Pre-check of data set"
   ]
  },
  {
   "cell_type": "code",
   "execution_count": 61,
   "metadata": {},
   "outputs": [
    {
     "data": {
      "text/html": [
       "<div>\n",
       "<style scoped>\n",
       "    .dataframe tbody tr th:only-of-type {\n",
       "        vertical-align: middle;\n",
       "    }\n",
       "\n",
       "    .dataframe tbody tr th {\n",
       "        vertical-align: top;\n",
       "    }\n",
       "\n",
       "    .dataframe thead th {\n",
       "        text-align: right;\n",
       "    }\n",
       "</style>\n",
       "<table border=\"1\" class=\"dataframe\">\n",
       "  <thead>\n",
       "    <tr style=\"text-align: right;\">\n",
       "      <th></th>\n",
       "      <th>1、I have read the Information Sheet and I am willing to participate in the survey.</th>\n",
       "      <th>count_cnt</th>\n",
       "      <th>percentage</th>\n",
       "    </tr>\n",
       "  </thead>\n",
       "  <tbody>\n",
       "    <tr>\n",
       "      <th>0</th>\n",
       "      <td>Yes</td>\n",
       "      <td>62</td>\n",
       "      <td>100.0</td>\n",
       "    </tr>\n",
       "  </tbody>\n",
       "</table>\n",
       "</div>"
      ],
      "text/plain": [
       "  1、I have read the Information Sheet and I am willing to participate in the survey.  \\\n",
       "0                                                Yes                                   \n",
       "\n",
       "   count_cnt  percentage  \n",
       "0         62       100.0  "
      ]
     },
     "execution_count": 61,
     "metadata": {},
     "output_type": "execute_result"
    }
   ],
   "source": [
    "# 1.Confirm every one has read the information sheet\n",
    "group_by_percentage(df_raw, '1、I have read the Information Sheet and I am willing to participate in the survey.')"
   ]
  },
  {
   "cell_type": "code",
   "execution_count": 62,
   "metadata": {},
   "outputs": [],
   "source": [
    "# 2. Drop the respondent that do not have any experience in teaching English online\n",
    "df_raw = df_raw.loc[df_raw['6、Do you have any experience in teaching English online?'] == 'Yes']"
   ]
  },
  {
   "cell_type": "markdown",
   "metadata": {},
   "source": [
    "# 2. Source"
   ]
  },
  {
   "cell_type": "code",
   "execution_count": 64,
   "metadata": {},
   "outputs": [
    {
     "data": {
      "text/html": [
       "<div>\n",
       "<style scoped>\n",
       "    .dataframe tbody tr th:only-of-type {\n",
       "        vertical-align: middle;\n",
       "    }\n",
       "\n",
       "    .dataframe tbody tr th {\n",
       "        vertical-align: top;\n",
       "    }\n",
       "\n",
       "    .dataframe thead th {\n",
       "        text-align: right;\n",
       "    }\n",
       "</style>\n",
       "<table border=\"1\" class=\"dataframe\">\n",
       "  <thead>\n",
       "    <tr style=\"text-align: right;\">\n",
       "      <th></th>\n",
       "      <th>来源</th>\n",
       "      <th>count_cnt</th>\n",
       "      <th>percentage</th>\n",
       "    </tr>\n",
       "  </thead>\n",
       "  <tbody>\n",
       "    <tr>\n",
       "      <th>0</th>\n",
       "      <td>微信</td>\n",
       "      <td>56</td>\n",
       "      <td>96.55</td>\n",
       "    </tr>\n",
       "    <tr>\n",
       "      <th>1</th>\n",
       "      <td>链接</td>\n",
       "      <td>2</td>\n",
       "      <td>3.45</td>\n",
       "    </tr>\n",
       "  </tbody>\n",
       "</table>\n",
       "</div>"
      ],
      "text/plain": [
       "   来源  count_cnt  percentage\n",
       "0  微信         56       96.55\n",
       "1  链接          2        3.45"
      ]
     },
     "execution_count": 64,
     "metadata": {},
     "output_type": "execute_result"
    }
   ],
   "source": [
    "group_by_percentage(df_raw, '来源')\n",
    "# 96.55% of respondents complete this survey on the phone by scaning the QR code shared by Wechat. \n",
    "# Only 3.45% respondents use shared link on the web to complete."
   ]
  },
  {
   "cell_type": "code",
   "execution_count": 65,
   "metadata": {},
   "outputs": [
    {
     "data": {
      "image/png": "[encoded data removed]",
      "text/plain": [
       "<Figure size 432x288 with 1 Axes>"
      ]
     },
     "metadata": {},
     "output_type": "display_data"
    }
   ],
   "source": [
    "#define data\n",
    "data = group_by_percentage(df_raw, '来源')['count_cnt']\n",
    "labels = ['WeChat', 'Link']\n",
    "\n",
    "#define Seaborn color palette to use\n",
    "colors = sns.color_palette('pastel')[0:5]\n",
    "\n",
    "#create pie chart\n",
    "plt.pie(data, labels = labels, colors = colors, autopct='%.0f%%')\n",
    "plt.show()"
   ]
  },
  {
   "cell_type": "markdown",
   "metadata": {},
   "source": [
    "# 3. Completing time"
   ]
  },
  {
   "cell_type": "markdown",
   "metadata": {},
   "source": [
    "Most distribution of responding time range from three munites to 18 minutes, with few respondents take a long time to complete. That might because complete this survey in a discrete time period, with the system continuely count the time."
   ]
  },
  {
   "cell_type": "code",
   "execution_count": 144,
   "metadata": {},
   "outputs": [],
   "source": [
    "df_raw['Completing Time'] = df_raw['所用时间'].str.strip('秒').astype('int32')\n",
    "df_raw['Completing Time'] = round(df_raw['Completing Time']/60, 2)\n",
    "df_raw = df_raw.rename(columns={'2、Gender': 'Gender'})"
   ]
  },
  {
   "cell_type": "code",
   "execution_count": 145,
   "metadata": {},
   "outputs": [
    {
     "data": {
      "text/plain": [
       "Text(0.5, 0, 'Completing Time(minutes)')"
      ]
     },
     "execution_count": 145,
     "metadata": {},
     "output_type": "execute_result"
    },
    {
     "data": {
      "image/png": "[encoded data removed]",
      "text/plain": [
       "<Figure size 432x288 with 1 Axes>"
      ]
     },
     "metadata": {
      "needs_background": "light"
     },
     "output_type": "display_data"
    }
   ],
   "source": [
    "p_time = sns.histplot(data=df_raw, x=\"Completing Time\", hue=\"Gender\", multiple=\"stack\", palette=\"pastel\")\n",
    "p_time.set_ylabel(\"Number of people\", fontsize = 10)\n",
    "p_time.set_xlabel(\"Completing Time(minutes)\", fontsize = 10)"
   ]
  },
  {
   "cell_type": "markdown",
   "metadata": {},
   "source": [
    "# 4. Education background and types of subject"
   ]
  },
  {
   "cell_type": "markdown",
   "metadata": {},
   "source": [
    "1. Over 70 percent of respondents have a Mater degree and over 25 percent only obtained the bachelor degree, \n",
    "with 2 respondents belong to other educational background.\n",
    "\n",
    "2. For the subjects reapondents are teaching, each respondent is allowed to choose \n",
    "multiple answers. The calculation method here is $$\\frac{\\text{Number of people choosing this subject}}{\\text{Number of all chose answers}}$$. Therefore, the denominator is larger than the number of respondet numbers. The proportions of choosing \n",
    "Middle school or Senior High School, IELTS, and Toefl iBT are quite close, which are 22.69%, 21.85%, 21.85% respectively. The followings are PTE or Duolingo, and Primary school or below primary education, which both take up 13.45%. Besides, there are 8 answers for others: PET/KET, General English, Communication-based English oral task，SAT, GRE, Ap alevel Enlish related courses, and TOEIC"
   ]
  },
  {
   "cell_type": "code",
   "execution_count": 126,
   "metadata": {},
   "outputs": [],
   "source": [
    "df_subject_explode = df_raw[['3、What is your level of education?', '4、What type of English classes do you teach?']]\n",
    "df_subject_explode = df_subject_explode.rename(columns={'3、What is your level of education?':'Education', '4、What type of English classes do you teach?':'Teaching types'})\n",
    "df_subject_explode['Teaching types'] = df_subject_explode['Teaching types'].str.split('┋')\n",
    "df_subject_explode_2 = df_subject_explode.explode('Teaching types').reset_index(drop = True)\n",
    "# drop answers for others\n",
    "df_subject_explode_2.loc[df_subject_explode_2['Teaching types'].str.contains('Others')==True] = 'Others'"
   ]
  },
  {
   "cell_type": "code",
   "execution_count": 127,
   "metadata": {},
   "outputs": [
    {
     "data": {
      "text/html": [
       "<div>\n",
       "<style scoped>\n",
       "    .dataframe tbody tr th:only-of-type {\n",
       "        vertical-align: middle;\n",
       "    }\n",
       "\n",
       "    .dataframe tbody tr th {\n",
       "        vertical-align: top;\n",
       "    }\n",
       "\n",
       "    .dataframe thead th {\n",
       "        text-align: right;\n",
       "    }\n",
       "</style>\n",
       "<table border=\"1\" class=\"dataframe\">\n",
       "  <thead>\n",
       "    <tr style=\"text-align: right;\">\n",
       "      <th></th>\n",
       "      <th>Teaching types</th>\n",
       "      <th>count_cnt</th>\n",
       "      <th>percentage</th>\n",
       "    </tr>\n",
       "  </thead>\n",
       "  <tbody>\n",
       "    <tr>\n",
       "      <th>0</th>\n",
       "      <td>Middle school or Senior High School</td>\n",
       "      <td>27</td>\n",
       "      <td>22.69</td>\n",
       "    </tr>\n",
       "    <tr>\n",
       "      <th>1</th>\n",
       "      <td>IELTS</td>\n",
       "      <td>26</td>\n",
       "      <td>21.85</td>\n",
       "    </tr>\n",
       "    <tr>\n",
       "      <th>2</th>\n",
       "      <td>Toefl iBT</td>\n",
       "      <td>26</td>\n",
       "      <td>21.85</td>\n",
       "    </tr>\n",
       "    <tr>\n",
       "      <th>3</th>\n",
       "      <td>PTE or Duolingo</td>\n",
       "      <td>16</td>\n",
       "      <td>13.45</td>\n",
       "    </tr>\n",
       "    <tr>\n",
       "      <th>4</th>\n",
       "      <td>Primary school or below primary education</td>\n",
       "      <td>16</td>\n",
       "      <td>13.45</td>\n",
       "    </tr>\n",
       "    <tr>\n",
       "      <th>5</th>\n",
       "      <td>Others</td>\n",
       "      <td>8</td>\n",
       "      <td>6.72</td>\n",
       "    </tr>\n",
       "  </tbody>\n",
       "</table>\n",
       "</div>"
      ],
      "text/plain": [
       "                              Teaching types  count_cnt  percentage\n",
       "0        Middle school or Senior High School         27       22.69\n",
       "1                                      IELTS         26       21.85\n",
       "2                                  Toefl iBT         26       21.85\n",
       "3                            PTE or Duolingo         16       13.45\n",
       "4  Primary school or below primary education         16       13.45\n",
       "5                                     Others          8        6.72"
      ]
     },
     "execution_count": 127,
     "metadata": {},
     "output_type": "execute_result"
    }
   ],
   "source": [
    "group_by_percentage(df_subject_explode_2, 'Teaching types')"
   ]
  },
  {
   "cell_type": "code",
   "execution_count": 128,
   "metadata": {},
   "outputs": [
    {
     "data": {
      "text/html": [
       "<div>\n",
       "<style scoped>\n",
       "    .dataframe tbody tr th:only-of-type {\n",
       "        vertical-align: middle;\n",
       "    }\n",
       "\n",
       "    .dataframe tbody tr th {\n",
       "        vertical-align: top;\n",
       "    }\n",
       "\n",
       "    .dataframe thead th {\n",
       "        text-align: right;\n",
       "    }\n",
       "</style>\n",
       "<table border=\"1\" class=\"dataframe\">\n",
       "  <thead>\n",
       "    <tr style=\"text-align: right;\">\n",
       "      <th></th>\n",
       "      <th>Education</th>\n",
       "      <th>count_cnt</th>\n",
       "      <th>percentage</th>\n",
       "    </tr>\n",
       "  </thead>\n",
       "  <tbody>\n",
       "    <tr>\n",
       "      <th>0</th>\n",
       "      <td>Master</td>\n",
       "      <td>41</td>\n",
       "      <td>70.69</td>\n",
       "    </tr>\n",
       "    <tr>\n",
       "      <th>1</th>\n",
       "      <td>Bachelor</td>\n",
       "      <td>15</td>\n",
       "      <td>25.86</td>\n",
       "    </tr>\n",
       "    <tr>\n",
       "      <th>2</th>\n",
       "      <td>Others</td>\n",
       "      <td>2</td>\n",
       "      <td>3.45</td>\n",
       "    </tr>\n",
       "  </tbody>\n",
       "</table>\n",
       "</div>"
      ],
      "text/plain": [
       "  Education  count_cnt  percentage\n",
       "0    Master         41       70.69\n",
       "1  Bachelor         15       25.86\n",
       "2    Others          2        3.45"
      ]
     },
     "execution_count": 128,
     "metadata": {},
     "output_type": "execute_result"
    }
   ],
   "source": [
    "group_by_percentage(df_subject_explode, 'Education')"
   ]
  },
  {
   "cell_type": "code",
   "execution_count": 129,
   "metadata": {},
   "outputs": [
    {
     "data": {
      "image/png": "[encoded data removed]",
      "text/plain": [
       "<Figure size 432x432 with 1 Axes>"
      ]
     },
     "metadata": {
      "needs_background": "light"
     },
     "output_type": "display_data"
    }
   ],
   "source": [
    "from pySankey.sankey import sankey\n",
    "sankey(\n",
    "    left=df_subject_explode_2[\"Education\"], right=df_subject_explode_2[\"Teaching types\"],\n",
    "    aspect=20, fontsize=12\n",
    ")"
   ]
  },
  {
   "cell_type": "markdown",
   "metadata": {},
   "source": [
    "# 5. Teaching experience years"
   ]
  },
  {
   "cell_type": "code",
   "execution_count": null,
   "metadata": {},
   "outputs": [],
   "source": [
    "sns.jointplot(x=df_raw['5、How long have you taught English?'], y=df_raw['7、How long have you taught English online ?'], cmap=\"Blues\", shade=True, kind='kde')"
   ]
  },
  {
   "cell_type": "code",
   "execution_count": 152,
   "metadata": {},
   "outputs": [
    {
     "data": {
      "text/plain": [
       "Index(['序号', '提交答卷时间', '所用时间', '来源', '来源详情', '来自IP', '1、I have read the Information Sheet and I am willing to participate in the survey.', 'Gender', '3、What is your level of education?', '4、What type of English classes do you teach?', '5、How long have you taught English?', '6、Do you have any experience in teaching English online?', '7、How long have you taught English online ?', '8、Please rank which factor that you think is the most effective for teaching English online (1 for the most effective, 2 for more effective ...)', '9、In terms of the English Proficiency, how do you feel about the effectiveness of factors for teaching English online?—Speaking English well', '9、Knowing English culture well', '9、Reading English well', '9、Having a high level of proficiency with English vocabulary', '9、Writing English well', '9、Pronouncing English well', '9、Understanding spoken English well', '9、Being familiar with English grammar',\n",
       "       '10、In terms of the Pedagogical Knowledge, how do you feel about the effectiveness of factors for teaching English online?—Prepareing the lesson well', '10、Teaching how to learn English outside the classroom (e.g.: watching more English movies)', '10、Using various materials including video, audio, and multimedia', '10、Teaching English tailored to students’ English proficiency levels.', '10、Maintaining a good classroom atmosphere', '10、Teaching English in English', '10、Assessing what students have learned rationally', '10、Teaching English incorporating student’s various learning styles.(e.g.:intravertive and extravertive learning style)', '10、Providing opportunities to use English through meaningful activities', '10、Providing activities that arouse student’s interest in learning English', '11、In terms of the Socio-Affected skills, how do you feel about the effectiveness of factors for teaching English online?—Being helpful to students in and outside the classroom',\n",
       "       '11、Alleviating students’ anxiety in English class', '11、Listening to students' opinions', '11、Helping to build students’ self-confidence in learning English well', '11、Being friendly to students', '11、Having a good sense of humour', '11、No discrimination between students and treat them fairly', '11、Arousing students’ motivation for learning English', '11、Having interest in students (e.g. remembering students’ names) and students’ English learning.', '12、In terms of teachers and students'awareness, how do you feel about the effectiveness of factors for teaching English online?—Both teachers and students have experience about the terminology and functions of the online software.', '12、Both teachers and students have knowledge about online software services available.', '12、Both teachers and students have experience about the usage of online software.',\n",
       "       '13、In terms of technology, how do you feel about the effectiveness of factors for teaching English online?—The online software is simple and flexible to use.', '13、The online software provides students with fast access to information.', '13、Both the teachers and students have knowledge about the usage of online software .', '13、The online software could offer good organization of course content and activities.', '13、The online software could offer upload and download attachments without delays. ( e.g.: the slide and the audio file)', '14、What factor do you think is the most effective for teaching English online during Covid-19? (e.g. How to design the class that could enable the students to concentrate on it )', '15、What factor do you think is the least effective for teaching English online during Covid-19?(e.g. Almost all students and teachers have computers or mobile phones and have access to Internet.)', '总分', 'Completing Time'],\n",
       "      dtype='object')"
      ]
     },
     "execution_count": 152,
     "metadata": {},
     "output_type": "execute_result"
    }
   ],
   "source": [
    "df_raw.columns"
   ]
  },
  {
   "cell_type": "code",
   "execution_count": 177,
   "metadata": {},
   "outputs": [
    {
     "data": {
      "text/html": [
       "<div>\n",
       "<style scoped>\n",
       "    .dataframe tbody tr th:only-of-type {\n",
       "        vertical-align: middle;\n",
       "    }\n",
       "\n",
       "    .dataframe tbody tr th {\n",
       "        vertical-align: top;\n",
       "    }\n",
       "\n",
       "    .dataframe thead th {\n",
       "        text-align: right;\n",
       "    }\n",
       "</style>\n",
       "<table border=\"1\" class=\"dataframe\">\n",
       "  <thead>\n",
       "    <tr style=\"text-align: right;\">\n",
       "      <th></th>\n",
       "      <th>5、How long have you taught English?</th>\n",
       "      <th>count_cnt</th>\n",
       "      <th>percentage</th>\n",
       "    </tr>\n",
       "  </thead>\n",
       "  <tbody>\n",
       "    <tr>\n",
       "      <th>0</th>\n",
       "      <td>Five to ten years</td>\n",
       "      <td>27</td>\n",
       "      <td>46.55</td>\n",
       "    </tr>\n",
       "    <tr>\n",
       "      <th>1</th>\n",
       "      <td>Three to five years</td>\n",
       "      <td>22</td>\n",
       "      <td>37.93</td>\n",
       "    </tr>\n",
       "    <tr>\n",
       "      <th>2</th>\n",
       "      <td>More than ten years</td>\n",
       "      <td>5</td>\n",
       "      <td>8.62</td>\n",
       "    </tr>\n",
       "    <tr>\n",
       "      <th>3</th>\n",
       "      <td>Less than two years</td>\n",
       "      <td>4</td>\n",
       "      <td>6.90</td>\n",
       "    </tr>\n",
       "  </tbody>\n",
       "</table>\n",
       "</div>"
      ],
      "text/plain": [
       "  5、How long have you taught English?  count_cnt  percentage\n",
       "0                   Five to ten years         27       46.55\n",
       "1                 Three to five years         22       37.93\n",
       "2                 More than ten years          5        8.62\n",
       "3                 Less than two years          4        6.90"
      ]
     },
     "execution_count": 177,
     "metadata": {},
     "output_type": "execute_result"
    }
   ],
   "source": [
    "group_by_percentage(df_raw, '5、How long have you taught English?')"
   ]
  },
  {
   "cell_type": "code",
   "execution_count": 155,
   "metadata": {},
   "outputs": [
    {
     "data": {
      "text/html": [
       "<div>\n",
       "<style scoped>\n",
       "    .dataframe tbody tr th:only-of-type {\n",
       "        vertical-align: middle;\n",
       "    }\n",
       "\n",
       "    .dataframe tbody tr th {\n",
       "        vertical-align: top;\n",
       "    }\n",
       "\n",
       "    .dataframe thead th {\n",
       "        text-align: right;\n",
       "    }\n",
       "</style>\n",
       "<table border=\"1\" class=\"dataframe\">\n",
       "  <thead>\n",
       "    <tr style=\"text-align: right;\">\n",
       "      <th></th>\n",
       "      <th>7、How long have you taught English online ?</th>\n",
       "      <th>count_cnt</th>\n",
       "      <th>percentage</th>\n",
       "    </tr>\n",
       "  </thead>\n",
       "  <tbody>\n",
       "    <tr>\n",
       "      <th>0</th>\n",
       "      <td>Two to three years</td>\n",
       "      <td>18</td>\n",
       "      <td>31.03</td>\n",
       "    </tr>\n",
       "    <tr>\n",
       "      <th>1</th>\n",
       "      <td>Three to five years</td>\n",
       "      <td>16</td>\n",
       "      <td>27.59</td>\n",
       "    </tr>\n",
       "    <tr>\n",
       "      <th>2</th>\n",
       "      <td>One year or less than one year</td>\n",
       "      <td>13</td>\n",
       "      <td>22.41</td>\n",
       "    </tr>\n",
       "    <tr>\n",
       "      <th>3</th>\n",
       "      <td>More than five years</td>\n",
       "      <td>11</td>\n",
       "      <td>18.97</td>\n",
       "    </tr>\n",
       "  </tbody>\n",
       "</table>\n",
       "</div>"
      ],
      "text/plain": [
       "  7、How long have you taught English online ?  count_cnt  percentage\n",
       "0                          Two to three years         18       31.03\n",
       "1                         Three to five years         16       27.59\n",
       "2              One year or less than one year         13       22.41\n",
       "3                        More than five years         11       18.97"
      ]
     },
     "execution_count": 155,
     "metadata": {},
     "output_type": "execute_result"
    }
   ],
   "source": [
    "group_by_percentage(df_raw, '7、How long have you taught English online ?')"
   ]
  },
  {
   "cell_type": "code",
   "execution_count": 194,
   "metadata": {},
   "outputs": [
    {
     "data": {
      "text/plain": [
       "Text(0.5, 0, 'How long have you taught English?')"
      ]
     },
     "execution_count": 194,
     "metadata": {},
     "output_type": "execute_result"
    },
    {
     "data": {
      "image/png": "[encoded data removed]",
      "text/plain": [
       "<Figure size 432x288 with 1 Axes>"
      ]
     },
     "metadata": {
      "needs_background": "light"
     },
     "output_type": "display_data"
    }
   ],
   "source": [
    "df_years_teaching = group_by_percentage(df_raw, '5、How long have you taught English?')\n",
    "df_years_teaching = df_years_teaching.rename(columns={'5、How long have you taught English?': 'Teaching years', 'count_cnt': 'Number of respondent'})\n",
    "df_years_teaching.loc[df_years_teaching['Teaching years'] == 'Less than two years', 'Teaching years'] = '< 2'\n",
    "df_years_teaching.loc[df_years_teaching['Teaching years'] == 'Three to five years', 'Teaching years'] = '3-5'\n",
    "df_years_teaching.loc[df_years_teaching['Teaching years'] == 'Five to ten years'  , 'Teaching years'] = '5-10'\n",
    "df_years_teaching.loc[df_years_teaching['Teaching years'] == 'More than ten years', 'Teaching years'] = '> 10'\n",
    "p_bar_years = sns.barplot(x=\"Teaching years\", y=\"Number of respondent\", data=df_years_teaching, palette=\"pastel\")\n",
    "p_bar_years.set_ylabel(\"Number of people\", fontsize = 12)\n",
    "p_bar_years.set_xlabel(\"How long have you taught English?\", fontsize = 12)"
   ]
  },
  {
   "cell_type": "code",
   "execution_count": 198,
   "metadata": {},
   "outputs": [
    {
     "data": {
      "text/plain": [
       "(0.0, 20.0)"
      ]
     },
     "execution_count": 198,
     "metadata": {},
     "output_type": "execute_result"
    },
    {
     "data": {
      "image/png": "[encoded data removed]",
      "text/plain": [
       "<Figure size 432x288 with 1 Axes>"
      ]
     },
     "metadata": {
      "needs_background": "light"
     },
     "output_type": "display_data"
    }
   ],
   "source": [
    "df_years_online_teaching = group_by_percentage(df_raw, '7、How long have you taught English online ?')\n",
    "df_years_online_teaching = df_years_online_teaching.rename(columns={'7、How long have you taught English online ?': 'Online teaching years', 'count_cnt': 'Number of respondent'})\n",
    "df_years_online_teaching.loc[df_years_online_teaching['Online teaching years'] == 'One year or less than one year', 'Online teaching years'] = '<= 1'\n",
    "df_years_online_teaching.loc[df_years_online_teaching['Online teaching years'] == 'Two to three years', 'Online teaching years'] = '2-3'\n",
    "df_years_online_teaching.loc[df_years_online_teaching['Online teaching years'] == 'Three to five years'  , 'Online teaching years'] = '3-5'\n",
    "df_years_online_teaching.loc[df_years_online_teaching['Online teaching years'] == 'More than five years', 'Online teaching years'] = '> 5'\n",
    "p_bar_oneline_years = sns.barplot(x=\"Online teaching years\", y=\"Number of respondent\", data=df_years_online_teaching, palette=\"pastel\")\n",
    "p_bar_oneline_years.set_ylabel(\"Number of people\", fontsize = 12)\n",
    "p_bar_oneline_years.set_xlabel(\"How long have you taught English online?\", fontsize = 12)\n",
    "plt.ylim(0, 20, 4)"
   ]
  },
  {
   "cell_type": "code",
   "execution_count": 174,
   "metadata": {},
   "outputs": [
    {
     "data": {
      "text/html": [
       "<div>\n",
       "<style scoped>\n",
       "    .dataframe tbody tr th:only-of-type {\n",
       "        vertical-align: middle;\n",
       "    }\n",
       "\n",
       "    .dataframe tbody tr th {\n",
       "        vertical-align: top;\n",
       "    }\n",
       "\n",
       "    .dataframe thead th {\n",
       "        text-align: right;\n",
       "    }\n",
       "</style>\n",
       "<table border=\"1\" class=\"dataframe\">\n",
       "  <thead>\n",
       "    <tr style=\"text-align: right;\">\n",
       "      <th></th>\n",
       "      <th>5、How long have you taught English?</th>\n",
       "      <th>7、How long have you taught English online ?</th>\n",
       "      <th>size</th>\n",
       "    </tr>\n",
       "  </thead>\n",
       "  <tbody>\n",
       "    <tr>\n",
       "      <th>0</th>\n",
       "      <td>Five to ten years</td>\n",
       "      <td>More than five years</td>\n",
       "      <td>7</td>\n",
       "    </tr>\n",
       "    <tr>\n",
       "      <th>1</th>\n",
       "      <td>Five to ten years</td>\n",
       "      <td>One year or less than one year</td>\n",
       "      <td>4</td>\n",
       "    </tr>\n",
       "    <tr>\n",
       "      <th>2</th>\n",
       "      <td>Five to ten years</td>\n",
       "      <td>Three to five years</td>\n",
       "      <td>8</td>\n",
       "    </tr>\n",
       "    <tr>\n",
       "      <th>3</th>\n",
       "      <td>Five to ten years</td>\n",
       "      <td>Two to three years</td>\n",
       "      <td>8</td>\n",
       "    </tr>\n",
       "    <tr>\n",
       "      <th>4</th>\n",
       "      <td>Less than two years</td>\n",
       "      <td>One year or less than one year</td>\n",
       "      <td>4</td>\n",
       "    </tr>\n",
       "    <tr>\n",
       "      <th>5</th>\n",
       "      <td>More than ten years</td>\n",
       "      <td>More than five years</td>\n",
       "      <td>4</td>\n",
       "    </tr>\n",
       "    <tr>\n",
       "      <th>6</th>\n",
       "      <td>More than ten years</td>\n",
       "      <td>Two to three years</td>\n",
       "      <td>1</td>\n",
       "    </tr>\n",
       "    <tr>\n",
       "      <th>7</th>\n",
       "      <td>Three to five years</td>\n",
       "      <td>One year or less than one year</td>\n",
       "      <td>5</td>\n",
       "    </tr>\n",
       "    <tr>\n",
       "      <th>8</th>\n",
       "      <td>Three to five years</td>\n",
       "      <td>Three to five years</td>\n",
       "      <td>8</td>\n",
       "    </tr>\n",
       "    <tr>\n",
       "      <th>9</th>\n",
       "      <td>Three to five years</td>\n",
       "      <td>Two to three years</td>\n",
       "      <td>9</td>\n",
       "    </tr>\n",
       "  </tbody>\n",
       "</table>\n",
       "</div>"
      ],
      "text/plain": [
       "  5、How long have you taught English? 7、How long have you taught English online ?  size\n",
       "0                   Five to ten years                        More than five years     7\n",
       "1                   Five to ten years              One year or less than one year     4\n",
       "2                   Five to ten years                         Three to five years     8\n",
       "3                   Five to ten years                          Two to three years     8\n",
       "4                 Less than two years              One year or less than one year     4\n",
       "5                 More than ten years                        More than five years     4\n",
       "6                 More than ten years                          Two to three years     1\n",
       "7                 Three to five years              One year or less than one year     5\n",
       "8                 Three to five years                         Three to five years     8\n",
       "9                 Three to five years                          Two to three years     9"
      ]
     },
     "execution_count": 174,
     "metadata": {},
     "output_type": "execute_result"
    }
   ],
   "source": []
  },
  {
   "cell_type": "code",
   "execution_count": null,
   "metadata": {},
   "outputs": [],
   "source": []
  }
 ],
 "metadata": {
  "kernelspec": {
   "display_name": "Python 3.8.10 ('msda2021')",
   "language": "python",
   "name": "python3"
  },
  "language_info": {
   "codemirror_mode": {
    "name": "ipython",
    "version": 3
   },
   "file_extension": ".py",
   "mimetype": "text/x-python",
   "name": "python",
   "nbconvert_exporter": "python",
   "pygments_lexer": "ipython3",
   "version": "3.8.10"
  },
  "orig_nbformat": 4,
  "vscode": {
   "interpreter": {
    "hash": "9fafd6bcf5e1fe2740be7d2fa2017a4f309da18b19103caf01d7400293b3295e"
   }
  }
 },
 "nbformat": 4,
 "nbformat_minor": 2
}
